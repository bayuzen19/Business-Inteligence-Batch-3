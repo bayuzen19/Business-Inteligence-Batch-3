{
  "nbformat": 4,
  "nbformat_minor": 0,
  "metadata": {
    "colab": {
      "name": "Day 19 & 20 Case Study A/B Testing atau Uplift Modelling_bayuzen_ahmad.ipynb",
      "provenance": [],
      "collapsed_sections": [],
      "authorship_tag": "ABX9TyNrld38AYt9ptz7rIl5CRAn",
      "include_colab_link": true
    },
    "kernelspec": {
      "name": "python3",
      "display_name": "Python 3"
    },
    "language_info": {
      "name": "python"
    }
  },
  "cells": [
    {
      "cell_type": "markdown",
      "metadata": {
        "id": "view-in-github",
        "colab_type": "text"
      },
      "source": [
        "<a href=\"https://colab.research.google.com/github/bayuzen19/Business-Inteligence-Batch-3/blob/main/Day_19_%26_20_Case_Study_A_B_Testing_atau_Uplift_Modelling_bayuzen_ahmad.ipynb\" target=\"_parent\"><img src=\"https://colab.research.google.com/assets/colab-badge.svg\" alt=\"Open In Colab\"/></a>"
      ]
    },
    {
      "cell_type": "markdown",
      "source": [
        "# Topic 1 - A/B Testing\n",
        "Introduction <br>\n",
        "Tim marketing sedang membuat teknologi marketing baru berupa iklan yang menyesuaikan dengan data historis pengguna ketika menggunakan platform dan ingin mengetahui seberapa baik performa dari iklan personalisasi ini dengan iklan biasa. Anda ditunjuk oleh tim marketing untuk menjalankan A/B testing untuk menguji hipotesis bahwa landing page yang baru akan meningkatkan konversi.<br>\n",
        "\n",
        "Task <br>\n",
        "Lakukan eksplorasi dengan visual dan interpretasi pada data yang diberikan:<br>\n",
        "Jumlah user per marketing channel <br>\n",
        "Jumlah user per variant <br>\n",
        "Jumlah user converted per variant <br>\n",
        "Jumlah user converted per variant dari waktu ke waktu <br>\n",
        "Jumlah user converted per age group <br>\n",
        "Korelasi prefered language dan converted <br>\n",
        "\n",
        "Lakukan pengujian A/B testing untuk menunjukkan bahwa terdapat perbedaan signifikan berdasarkan jumlah konversi antara iklan baru dengan iklan lama. Perhatikan dengan baik aksi terakhir yang dilakukan tiap user! <br>\n",
        "\n",
        "Buatlah presentasi berdasarkan hasil riset anda disertai dengan actionable insights/rekomendasi berdasarkan hasil analisis."
      ],
      "metadata": {
        "id": "-zI-KG4XfAKh"
      }
    },
    {
      "cell_type": "code",
      "execution_count": 1,
      "metadata": {
        "colab": {
          "base_uri": "https://localhost:8080/"
        },
        "id": "IYkyli5ve91W",
        "outputId": "72554230-757f-422f-9605-32b194dce94e"
      },
      "outputs": [
        {
          "output_type": "stream",
          "name": "stderr",
          "text": [
            "/usr/local/lib/python3.7/dist-packages/statsmodels/tools/_testing.py:19: FutureWarning: pandas.util.testing is deprecated. Use the functions in the public API at pandas.testing instead.\n",
            "  import pandas.util.testing as tm\n"
          ]
        }
      ],
      "source": [
        "import numpy as np\n",
        "import pandas as pd\n",
        "import matplotlib.pyplot as plt\n",
        "import seaborn as sns\n",
        "\n",
        "from statsmodels.stats.power import TTestPower, TTestIndPower, GofChisquarePower\n",
        "from statsmodels.stats.proportion import proportions_chisquare\n",
        "from statsmodels.stats.weightstats import ttest_ind\n",
        "import statsmodels.api as sm\n",
        "\n",
        "import scipy.stats"
      ]
    },
    {
      "cell_type": "code",
      "source": [
        "df = pd.read_csv(\"https://raw.githubusercontent.com/hadimaster65555/dataset_for_teaching/main/dataset/marketing_campaign_experiment/marketing-clean.csv\")"
      ],
      "metadata": {
        "id": "3w6jXfw_fKz5"
      },
      "execution_count": 2,
      "outputs": []
    },
    {
      "cell_type": "markdown",
      "source": [
        "# Data Inspection"
      ],
      "metadata": {
        "id": "83FDMcljfQgE"
      }
    },
    {
      "cell_type": "code",
      "source": [
        "df.head()"
      ],
      "metadata": {
        "colab": {
          "base_uri": "https://localhost:8080/",
          "height": 339
        },
        "id": "cz8gkFXufPDn",
        "outputId": "91afd1b3-eb78-462b-c3cd-97f39facbe66"
      },
      "execution_count": 3,
      "outputs": [
        {
          "output_type": "execute_result",
          "data": {
            "text/plain": [
              "      user_id date_served marketing_channel          variant  converted  \\\n",
              "0  a100000040      1/1/18         House Ads  personalization       True   \n",
              "1  a100000041      1/1/18         House Ads  personalization       True   \n",
              "2  a100000042      1/1/18         House Ads  personalization       True   \n",
              "3  a100000043      1/1/18         House Ads  personalization       True   \n",
              "4  a100000044      1/1/18         House Ads  personalization       True   \n",
              "\n",
              "  language_displayed language_preferred    age_group date_subscribed  \\\n",
              "0            English            English  19-24 years          1/1/18   \n",
              "1             Arabic             Arabic  24-30 years          1/1/18   \n",
              "2            English            English   0-18 years          1/1/18   \n",
              "3            English            English  19-24 years          1/1/18   \n",
              "4             Arabic             Arabic  24-30 years          1/1/18   \n",
              "\n",
              "  date_canceled subscribing_channel  is_retained  conversion  \n",
              "0       1/18/18           House Ads        False           1  \n",
              "1       2/22/18           House Ads        False           1  \n",
              "2        3/9/18           House Ads        False           1  \n",
              "3       2/18/18           House Ads        False           1  \n",
              "4        3/3/18           House Ads        False           1  "
            ],
            "text/html": [
              "\n",
              "  <div id=\"df-ec099331-592e-4f38-8871-32cfb0bee1f3\">\n",
              "    <div class=\"colab-df-container\">\n",
              "      <div>\n",
              "<style scoped>\n",
              "    .dataframe tbody tr th:only-of-type {\n",
              "        vertical-align: middle;\n",
              "    }\n",
              "\n",
              "    .dataframe tbody tr th {\n",
              "        vertical-align: top;\n",
              "    }\n",
              "\n",
              "    .dataframe thead th {\n",
              "        text-align: right;\n",
              "    }\n",
              "</style>\n",
              "<table border=\"1\" class=\"dataframe\">\n",
              "  <thead>\n",
              "    <tr style=\"text-align: right;\">\n",
              "      <th></th>\n",
              "      <th>user_id</th>\n",
              "      <th>date_served</th>\n",
              "      <th>marketing_channel</th>\n",
              "      <th>variant</th>\n",
              "      <th>converted</th>\n",
              "      <th>language_displayed</th>\n",
              "      <th>language_preferred</th>\n",
              "      <th>age_group</th>\n",
              "      <th>date_subscribed</th>\n",
              "      <th>date_canceled</th>\n",
              "      <th>subscribing_channel</th>\n",
              "      <th>is_retained</th>\n",
              "      <th>conversion</th>\n",
              "    </tr>\n",
              "  </thead>\n",
              "  <tbody>\n",
              "    <tr>\n",
              "      <th>0</th>\n",
              "      <td>a100000040</td>\n",
              "      <td>1/1/18</td>\n",
              "      <td>House Ads</td>\n",
              "      <td>personalization</td>\n",
              "      <td>True</td>\n",
              "      <td>English</td>\n",
              "      <td>English</td>\n",
              "      <td>19-24 years</td>\n",
              "      <td>1/1/18</td>\n",
              "      <td>1/18/18</td>\n",
              "      <td>House Ads</td>\n",
              "      <td>False</td>\n",
              "      <td>1</td>\n",
              "    </tr>\n",
              "    <tr>\n",
              "      <th>1</th>\n",
              "      <td>a100000041</td>\n",
              "      <td>1/1/18</td>\n",
              "      <td>House Ads</td>\n",
              "      <td>personalization</td>\n",
              "      <td>True</td>\n",
              "      <td>Arabic</td>\n",
              "      <td>Arabic</td>\n",
              "      <td>24-30 years</td>\n",
              "      <td>1/1/18</td>\n",
              "      <td>2/22/18</td>\n",
              "      <td>House Ads</td>\n",
              "      <td>False</td>\n",
              "      <td>1</td>\n",
              "    </tr>\n",
              "    <tr>\n",
              "      <th>2</th>\n",
              "      <td>a100000042</td>\n",
              "      <td>1/1/18</td>\n",
              "      <td>House Ads</td>\n",
              "      <td>personalization</td>\n",
              "      <td>True</td>\n",
              "      <td>English</td>\n",
              "      <td>English</td>\n",
              "      <td>0-18 years</td>\n",
              "      <td>1/1/18</td>\n",
              "      <td>3/9/18</td>\n",
              "      <td>House Ads</td>\n",
              "      <td>False</td>\n",
              "      <td>1</td>\n",
              "    </tr>\n",
              "    <tr>\n",
              "      <th>3</th>\n",
              "      <td>a100000043</td>\n",
              "      <td>1/1/18</td>\n",
              "      <td>House Ads</td>\n",
              "      <td>personalization</td>\n",
              "      <td>True</td>\n",
              "      <td>English</td>\n",
              "      <td>English</td>\n",
              "      <td>19-24 years</td>\n",
              "      <td>1/1/18</td>\n",
              "      <td>2/18/18</td>\n",
              "      <td>House Ads</td>\n",
              "      <td>False</td>\n",
              "      <td>1</td>\n",
              "    </tr>\n",
              "    <tr>\n",
              "      <th>4</th>\n",
              "      <td>a100000044</td>\n",
              "      <td>1/1/18</td>\n",
              "      <td>House Ads</td>\n",
              "      <td>personalization</td>\n",
              "      <td>True</td>\n",
              "      <td>Arabic</td>\n",
              "      <td>Arabic</td>\n",
              "      <td>24-30 years</td>\n",
              "      <td>1/1/18</td>\n",
              "      <td>3/3/18</td>\n",
              "      <td>House Ads</td>\n",
              "      <td>False</td>\n",
              "      <td>1</td>\n",
              "    </tr>\n",
              "  </tbody>\n",
              "</table>\n",
              "</div>\n",
              "      <button class=\"colab-df-convert\" onclick=\"convertToInteractive('df-ec099331-592e-4f38-8871-32cfb0bee1f3')\"\n",
              "              title=\"Convert this dataframe to an interactive table.\"\n",
              "              style=\"display:none;\">\n",
              "        \n",
              "  <svg xmlns=\"http://www.w3.org/2000/svg\" height=\"24px\"viewBox=\"0 0 24 24\"\n",
              "       width=\"24px\">\n",
              "    <path d=\"M0 0h24v24H0V0z\" fill=\"none\"/>\n",
              "    <path d=\"M18.56 5.44l.94 2.06.94-2.06 2.06-.94-2.06-.94-.94-2.06-.94 2.06-2.06.94zm-11 1L8.5 8.5l.94-2.06 2.06-.94-2.06-.94L8.5 2.5l-.94 2.06-2.06.94zm10 10l.94 2.06.94-2.06 2.06-.94-2.06-.94-.94-2.06-.94 2.06-2.06.94z\"/><path d=\"M17.41 7.96l-1.37-1.37c-.4-.4-.92-.59-1.43-.59-.52 0-1.04.2-1.43.59L10.3 9.45l-7.72 7.72c-.78.78-.78 2.05 0 2.83L4 21.41c.39.39.9.59 1.41.59.51 0 1.02-.2 1.41-.59l7.78-7.78 2.81-2.81c.8-.78.8-2.07 0-2.86zM5.41 20L4 18.59l7.72-7.72 1.47 1.35L5.41 20z\"/>\n",
              "  </svg>\n",
              "      </button>\n",
              "      \n",
              "  <style>\n",
              "    .colab-df-container {\n",
              "      display:flex;\n",
              "      flex-wrap:wrap;\n",
              "      gap: 12px;\n",
              "    }\n",
              "\n",
              "    .colab-df-convert {\n",
              "      background-color: #E8F0FE;\n",
              "      border: none;\n",
              "      border-radius: 50%;\n",
              "      cursor: pointer;\n",
              "      display: none;\n",
              "      fill: #1967D2;\n",
              "      height: 32px;\n",
              "      padding: 0 0 0 0;\n",
              "      width: 32px;\n",
              "    }\n",
              "\n",
              "    .colab-df-convert:hover {\n",
              "      background-color: #E2EBFA;\n",
              "      box-shadow: 0px 1px 2px rgba(60, 64, 67, 0.3), 0px 1px 3px 1px rgba(60, 64, 67, 0.15);\n",
              "      fill: #174EA6;\n",
              "    }\n",
              "\n",
              "    [theme=dark] .colab-df-convert {\n",
              "      background-color: #3B4455;\n",
              "      fill: #D2E3FC;\n",
              "    }\n",
              "\n",
              "    [theme=dark] .colab-df-convert:hover {\n",
              "      background-color: #434B5C;\n",
              "      box-shadow: 0px 1px 3px 1px rgba(0, 0, 0, 0.15);\n",
              "      filter: drop-shadow(0px 1px 2px rgba(0, 0, 0, 0.3));\n",
              "      fill: #FFFFFF;\n",
              "    }\n",
              "  </style>\n",
              "\n",
              "      <script>\n",
              "        const buttonEl =\n",
              "          document.querySelector('#df-ec099331-592e-4f38-8871-32cfb0bee1f3 button.colab-df-convert');\n",
              "        buttonEl.style.display =\n",
              "          google.colab.kernel.accessAllowed ? 'block' : 'none';\n",
              "\n",
              "        async function convertToInteractive(key) {\n",
              "          const element = document.querySelector('#df-ec099331-592e-4f38-8871-32cfb0bee1f3');\n",
              "          const dataTable =\n",
              "            await google.colab.kernel.invokeFunction('convertToInteractive',\n",
              "                                                     [key], {});\n",
              "          if (!dataTable) return;\n",
              "\n",
              "          const docLinkHtml = 'Like what you see? Visit the ' +\n",
              "            '<a target=\"_blank\" href=https://colab.research.google.com/notebooks/data_table.ipynb>data table notebook</a>'\n",
              "            + ' to learn more about interactive tables.';\n",
              "          element.innerHTML = '';\n",
              "          dataTable['output_type'] = 'display_data';\n",
              "          await google.colab.output.renderOutput(dataTable, element);\n",
              "          const docLink = document.createElement('div');\n",
              "          docLink.innerHTML = docLinkHtml;\n",
              "          element.appendChild(docLink);\n",
              "        }\n",
              "      </script>\n",
              "    </div>\n",
              "  </div>\n",
              "  "
            ]
          },
          "metadata": {},
          "execution_count": 3
        }
      ]
    },
    {
      "cell_type": "code",
      "source": [
        "df.info()"
      ],
      "metadata": {
        "colab": {
          "base_uri": "https://localhost:8080/"
        },
        "id": "He0pO99pfSMa",
        "outputId": "08195934-69a6-431d-9063-0299898925ec"
      },
      "execution_count": 4,
      "outputs": [
        {
          "output_type": "stream",
          "name": "stdout",
          "text": [
            "<class 'pandas.core.frame.DataFrame'>\n",
            "RangeIndex: 577 entries, 0 to 576\n",
            "Data columns (total 13 columns):\n",
            " #   Column               Non-Null Count  Dtype \n",
            "---  ------               --------------  ----- \n",
            " 0   user_id              577 non-null    object\n",
            " 1   date_served          577 non-null    object\n",
            " 2   marketing_channel    577 non-null    object\n",
            " 3   variant              577 non-null    object\n",
            " 4   converted            577 non-null    bool  \n",
            " 5   language_displayed   577 non-null    object\n",
            " 6   language_preferred   577 non-null    object\n",
            " 7   age_group            577 non-null    object\n",
            " 8   date_subscribed      577 non-null    object\n",
            " 9   date_canceled        577 non-null    object\n",
            " 10  subscribing_channel  577 non-null    object\n",
            " 11  is_retained          577 non-null    bool  \n",
            " 12  conversion           577 non-null    int64 \n",
            "dtypes: bool(2), int64(1), object(10)\n",
            "memory usage: 50.8+ KB\n"
          ]
        }
      ]
    },
    {
      "cell_type": "code",
      "source": [
        "for x in df.columns:\n",
        "  print(f\"================Kolom dari {x}===============\")\n",
        "  print(f\"{df[x].unique()}\")\n",
        "  print()"
      ],
      "metadata": {
        "colab": {
          "base_uri": "https://localhost:8080/"
        },
        "id": "jXBOQuPlgQ2j",
        "outputId": "6fb91c05-448a-404b-a7d3-c97192b83365"
      },
      "execution_count": 5,
      "outputs": [
        {
          "output_type": "stream",
          "name": "stdout",
          "text": [
            "================Kolom dari user_id===============\n",
            "['a100000040' 'a100000041' 'a100000042' 'a100000043' 'a100000044'\n",
            " 'a100000045' 'a100000046' 'a100000047' 'a100000048' 'a100000059'\n",
            " 'a100000060' 'a100000061' 'a100000062' 'a100000063' 'a100000064'\n",
            " 'a100000065' 'a100000066' 'a100000067' 'a100000088' 'a100000089'\n",
            " 'a100000090' 'a100000091' 'a100000092' 'a100000093' 'a100000094'\n",
            " 'a100000095' 'a100000096' 'a100000101' 'a100000102' 'a100000103'\n",
            " 'a100000104' 'a100000105' 'a100000107' 'a100000108' 'a100000109'\n",
            " 'a100000110' 'a100000164' 'a100000165' 'a100000166' 'a100000167'\n",
            " 'a100000168' 'a100000169' 'a100000170' 'a100000171' 'a100000172'\n",
            " 'a100000260' 'a100000261' 'a100000262' 'a100000263' 'a100000264'\n",
            " 'a100000265' 'a100000266' 'a100000267' 'a100000268' 'a100000294'\n",
            " 'a100000295' 'a100000296' 'a100000297' 'a100000298' 'a100000299'\n",
            " 'a100000300' 'a100000301' 'a100000302' 'a100000317' 'a100000318'\n",
            " 'a100000319' 'a100000320' 'a100000321' 'a100000322' 'a100000323'\n",
            " 'a100000324' 'a100000325' 'a100000337' 'a100000338' 'a100000339'\n",
            " 'a100000340' 'a100000341' 'a100000342' 'a100000343' 'a100000344'\n",
            " 'a100000345' 'a100000349' 'a100000350' 'a100000351' 'a100000352'\n",
            " 'a100000353' 'a100000354' 'a100000355' 'a100000356' 'a100000357'\n",
            " 'a100000360' 'a100000361' 'a100000362' 'a100000363' 'a100000364'\n",
            " 'a100000365' 'a100000366' 'a100000367' 'a100000368' 'a100000378'\n",
            " 'a100000379' 'a100000380' 'a100000381' 'a100000382' 'a100000383'\n",
            " 'a100000384' 'a100000385' 'a100000386' 'a100000387' 'a100000388'\n",
            " 'a100000389' 'a100000390' 'a100000391' 'a100000392' 'a100000393'\n",
            " 'a100000394' 'a100000398' 'a100000399' 'a100000400' 'a100000401'\n",
            " 'a100000402' 'a100000403' 'a100000404' 'a100000405' 'a100000406'\n",
            " 'a100000536' 'a100000537' 'a100000538' 'a100000539' 'a100000540'\n",
            " 'a100000541' 'a100000542' 'a100000543' 'a100000544' 'a100000555'\n",
            " 'a100000556' 'a100000557' 'a100000558' 'a100000559' 'a100000560'\n",
            " 'a100000561' 'a100000562' 'a100000563' 'a100000571' 'a100000572'\n",
            " 'a100000573' 'a100000574' 'a100000575' 'a100000576' 'a100000577'\n",
            " 'a100000578' 'a100000579' 'a100000596' 'a100000597' 'a100000598'\n",
            " 'a100000599' 'a100000600' 'a100000601' 'a100000602' 'a100000603'\n",
            " 'a100000604' 'a100000634' 'a100000635' 'a100000636' 'a100000637'\n",
            " 'a100000638' 'a100000639' 'a100000640' 'a100000641' 'a100000642'\n",
            " 'a100000691' 'a100000692' 'a100000693' 'a100000694' 'a100000695'\n",
            " 'a100000696' 'a100000697' 'a100000698' 'a100000718' 'a100000734'\n",
            " 'a100000735' 'a100000736' 'a100000737' 'a100000738' 'a100000739'\n",
            " 'a100000753' 'a100000754' 'a100000755' 'a100000763' 'a100000764'\n",
            " 'a100000765' 'a100000766' 'a100000767' 'a100000768' 'a100000769'\n",
            " 'a100000770' 'a100000771' 'a100000801' 'a100000802' 'a100000803'\n",
            " 'a100000804' 'a100000805' 'a100000806' 'a100000807' 'a100000808'\n",
            " 'a100000809' 'a100000826' 'a100000827' 'a100000828' 'a100000829'\n",
            " 'a100000830' 'a100000831' 'a100000832' 'a100000833' 'a100000855'\n",
            " 'a100000867' 'a100000868' 'a100000869' 'a100000870' 'a100000871'\n",
            " 'a100000872' 'a100000873' 'a100000874' 'a100000875' 'a100000888'\n",
            " 'a100000889' 'a100000890' 'a100000891' 'a100000892' 'a100000893'\n",
            " 'a100000894' 'a100000895' 'a100000896' 'a100000992' 'a100000993'\n",
            " 'a100000994' 'a100000995' 'a100000996' 'a100000997' 'a100000998'\n",
            " 'a100000999' 'a100001044' 'a100001090' 'a100001091' 'a100001092'\n",
            " 'a100001093' 'a100001094' 'a100001095' 'a100001096' 'a100001097'\n",
            " 'a100001098' 'a100001154' 'a100001155' 'a100001156' 'a100001157'\n",
            " 'a100001158' 'a100001159' 'a100001160' 'a100001161' 'a100001162'\n",
            " 'a100001166' 'a100001167' 'a100001168' 'a100001169' 'a100001170'\n",
            " 'a100001171' 'a100001172' 'a100001173' 'a100001174' 'a100001180'\n",
            " 'a100001181' 'a100001182' 'a100001183' 'a100001184' 'a100001185'\n",
            " 'a100001186' 'a100001187' 'a100001188' 'a100001198' 'a100001199'\n",
            " 'a100001200' 'a100001201' 'a100001202' 'a100001203' 'a100001204'\n",
            " 'a100001205' 'a100001206' 'a100001223' 'a100001224' 'a100001225'\n",
            " 'a100001226' 'a100001227' 'a100001228' 'a100001229' 'a100001230'\n",
            " 'a100001231' 'a100001290' 'a100001291' 'a100001292' 'a100001293'\n",
            " 'a100001294' 'a100001295' 'a100001296' 'a100001297' 'a100001298'\n",
            " 'a100001304' 'a100001305' 'a100001306' 'a100001307' 'a100001308'\n",
            " 'a100001309' 'a100001310' 'a100001311' 'a100001312' 'a100001342'\n",
            " 'a100001343' 'a100001344' 'a100001345' 'a100001346' 'a100001347'\n",
            " 'a100001348' 'a100001349' 'a100001350' 'a100001357' 'a100001358'\n",
            " 'a100001359' 'a100001360' 'a100001361' 'a100001362' 'a100001363'\n",
            " 'a100001364' 'a100001365' 'a100001373' 'a100001374' 'a100001375'\n",
            " 'a100001376' 'a100001377' 'a100001378' 'a100001379' 'a100001380'\n",
            " 'a100001381' 'a100007282' 'a100007283' 'a100007284' 'a100007285'\n",
            " 'a100007286' 'a100007287' 'a100007288' 'a100007289' 'a100007290']\n",
            "\n",
            "================Kolom dari date_served===============\n",
            "['1/1/18' '1/2/18' '1/3/18' '1/4/18' '1/5/18' '1/6/18' '1/7/18' '1/8/18'\n",
            " '1/9/18' '1/10/18' '1/11/18' '1/12/18' '1/13/18' '1/14/18' '1/15/18'\n",
            " '1/16/18' '1/17/18' '1/18/18' '1/30/18' '1/31/18' '1/21/18' '1/22/18'\n",
            " '1/23/18' '1/24/18' '1/25/18' '1/26/18' '1/27/18' '1/28/18' '1/29/18'\n",
            " '1/19/18' '1/20/18']\n",
            "\n",
            "================Kolom dari marketing_channel===============\n",
            "['House Ads' 'Facebook' 'Push' 'Instagram' 'Email']\n",
            "\n",
            "================Kolom dari variant===============\n",
            "['personalization' 'control']\n",
            "\n",
            "================Kolom dari converted===============\n",
            "[ True False]\n",
            "\n",
            "================Kolom dari language_displayed===============\n",
            "['English' 'Arabic' 'German' 'Spanish']\n",
            "\n",
            "================Kolom dari language_preferred===============\n",
            "['English' 'Arabic' 'German' 'Spanish']\n",
            "\n",
            "================Kolom dari age_group===============\n",
            "['19-24 years' '24-30 years' '0-18 years' '45-55 years' '55+ years'\n",
            " '30-36 years' '36-45 years']\n",
            "\n",
            "================Kolom dari date_subscribed===============\n",
            "['1/1/18' '1/2/18' '1/3/18' '1/4/18' '1/5/18' '1/6/18' '1/7/18' '1/8/18'\n",
            " '1/9/18' '1/10/18' '1/11/18' '1/12/18' '1/13/18' '1/14/18' '1/15/18'\n",
            " '1/16/18' '1/17/18' '1/18/18' '1/30/18' '1/31/18' '1/21/18' '1/22/18'\n",
            " '1/23/18' '1/24/18' '1/25/18' '1/26/18' '1/27/18' '1/28/18' '1/29/18'\n",
            " '1/19/18' '1/20/18']\n",
            "\n",
            "================Kolom dari date_canceled===============\n",
            "['1/18/18' '2/22/18' '3/9/18' '2/18/18' '3/3/18' '2/4/18' '1/9/18'\n",
            " '1/21/18' '2/19/18' '3/8/18' '2/5/18' '1/11/18' '1/6/18' '3/1/18'\n",
            " '4/2/18' '3/2/18' '1/5/18' '2/9/18' '3/25/18' '3/12/18' '3/10/18'\n",
            " '2/14/18' '1/23/18' '2/11/18' '4/13/18' '4/12/18' '4/3/18' '2/17/18'\n",
            " '4/14/18' '2/3/18' '1/8/18' '1/27/18' '3/11/18' '2/21/18' '2/25/18'\n",
            " '3/5/18' '4/16/18' '2/6/18' '1/14/18' '3/13/18' '3/19/18' '2/10/18'\n",
            " '3/30/18' '1/15/18' '3/7/18' '4/10/18' '3/26/18' '4/19/18' '3/4/18'\n",
            " '1/26/18' '4/5/18' '3/15/18' '4/22/18' '4/29/18' '4/17/18' '2/8/18'\n",
            " '1/25/18' '3/27/18' '2/20/18' '2/24/18' '2/12/18' '3/17/18' '3/29/18'\n",
            " '2/16/18' '4/6/18' '4/9/18' '3/23/18' '5/9/18' '3/20/18' '1/28/18'\n",
            " '3/22/18' '2/1/18' '3/31/18' '1/31/18' '3/28/18' '4/8/18' '1/24/18'\n",
            " '1/22/18' '2/28/18' '4/27/18' '1/29/18' '5/2/18' '4/7/18' '2/15/18'\n",
            " '1/10/18' '2/26/18' '1/19/18' '2/23/18' '4/21/18' '2/13/18' '1/30/18'\n",
            " '2/7/18' '4/4/18' '4/26/18' '1/16/18' '4/1/18' '5/4/18' '4/28/18'\n",
            " '3/6/18' '3/24/18' '1/7/18' '1/12/18' '3/18/18' '1/13/18' '1/20/18'\n",
            " '3/16/18' '4/11/18' '1/17/18' '4/20/18' '5/1/18' '4/23/18' '2/2/18'\n",
            " '4/25/18' '4/30/18' '5/7/18']\n",
            "\n",
            "================Kolom dari subscribing_channel===============\n",
            "['House Ads' 'Facebook' 'Instagram' 'Email' 'Push']\n",
            "\n",
            "================Kolom dari is_retained===============\n",
            "[False]\n",
            "\n",
            "================Kolom dari conversion===============\n",
            "[1 0]\n",
            "\n"
          ]
        }
      ]
    },
    {
      "cell_type": "markdown",
      "source": [
        "dari data, tipe data telah sesuai kecuali untuk kolom yang bersifat waktu. perlu sedikit modifikasi terhadap format waktu untuk menjadi tipe YYYY-MM-DD"
      ],
      "metadata": {
        "id": "WC-sAla0gjJi"
      }
    },
    {
      "cell_type": "code",
      "source": [
        "df[\"date_served\"] = pd.to_datetime(df['date_served'],format=\"%m/%d/%y\",infer_datetime_format=True)\n",
        "df[\"date_canceled\"] = pd.to_datetime(df['date_canceled'],format=\"%m/%d/%y\",infer_datetime_format=True)\n",
        "df[\"date_subscribed\"] = pd.to_datetime(df['date_subscribed'],format=\"%m/%d/%y\",infer_datetime_format=True)"
      ],
      "metadata": {
        "id": "l71XISS1gdDr"
      },
      "execution_count": 6,
      "outputs": []
    },
    {
      "cell_type": "code",
      "source": [
        "for x in df.columns:\n",
        "  print(f\"================Kolom dari {x}===============\")\n",
        "  print(f\"{df[x].unique()}\")\n",
        "  print()"
      ],
      "metadata": {
        "colab": {
          "base_uri": "https://localhost:8080/"
        },
        "id": "iXpiQ2dq1yLe",
        "outputId": "5c53a096-9c07-4583-e678-c0d17fd51b28"
      },
      "execution_count": 7,
      "outputs": [
        {
          "output_type": "stream",
          "name": "stdout",
          "text": [
            "================Kolom dari user_id===============\n",
            "['a100000040' 'a100000041' 'a100000042' 'a100000043' 'a100000044'\n",
            " 'a100000045' 'a100000046' 'a100000047' 'a100000048' 'a100000059'\n",
            " 'a100000060' 'a100000061' 'a100000062' 'a100000063' 'a100000064'\n",
            " 'a100000065' 'a100000066' 'a100000067' 'a100000088' 'a100000089'\n",
            " 'a100000090' 'a100000091' 'a100000092' 'a100000093' 'a100000094'\n",
            " 'a100000095' 'a100000096' 'a100000101' 'a100000102' 'a100000103'\n",
            " 'a100000104' 'a100000105' 'a100000107' 'a100000108' 'a100000109'\n",
            " 'a100000110' 'a100000164' 'a100000165' 'a100000166' 'a100000167'\n",
            " 'a100000168' 'a100000169' 'a100000170' 'a100000171' 'a100000172'\n",
            " 'a100000260' 'a100000261' 'a100000262' 'a100000263' 'a100000264'\n",
            " 'a100000265' 'a100000266' 'a100000267' 'a100000268' 'a100000294'\n",
            " 'a100000295' 'a100000296' 'a100000297' 'a100000298' 'a100000299'\n",
            " 'a100000300' 'a100000301' 'a100000302' 'a100000317' 'a100000318'\n",
            " 'a100000319' 'a100000320' 'a100000321' 'a100000322' 'a100000323'\n",
            " 'a100000324' 'a100000325' 'a100000337' 'a100000338' 'a100000339'\n",
            " 'a100000340' 'a100000341' 'a100000342' 'a100000343' 'a100000344'\n",
            " 'a100000345' 'a100000349' 'a100000350' 'a100000351' 'a100000352'\n",
            " 'a100000353' 'a100000354' 'a100000355' 'a100000356' 'a100000357'\n",
            " 'a100000360' 'a100000361' 'a100000362' 'a100000363' 'a100000364'\n",
            " 'a100000365' 'a100000366' 'a100000367' 'a100000368' 'a100000378'\n",
            " 'a100000379' 'a100000380' 'a100000381' 'a100000382' 'a100000383'\n",
            " 'a100000384' 'a100000385' 'a100000386' 'a100000387' 'a100000388'\n",
            " 'a100000389' 'a100000390' 'a100000391' 'a100000392' 'a100000393'\n",
            " 'a100000394' 'a100000398' 'a100000399' 'a100000400' 'a100000401'\n",
            " 'a100000402' 'a100000403' 'a100000404' 'a100000405' 'a100000406'\n",
            " 'a100000536' 'a100000537' 'a100000538' 'a100000539' 'a100000540'\n",
            " 'a100000541' 'a100000542' 'a100000543' 'a100000544' 'a100000555'\n",
            " 'a100000556' 'a100000557' 'a100000558' 'a100000559' 'a100000560'\n",
            " 'a100000561' 'a100000562' 'a100000563' 'a100000571' 'a100000572'\n",
            " 'a100000573' 'a100000574' 'a100000575' 'a100000576' 'a100000577'\n",
            " 'a100000578' 'a100000579' 'a100000596' 'a100000597' 'a100000598'\n",
            " 'a100000599' 'a100000600' 'a100000601' 'a100000602' 'a100000603'\n",
            " 'a100000604' 'a100000634' 'a100000635' 'a100000636' 'a100000637'\n",
            " 'a100000638' 'a100000639' 'a100000640' 'a100000641' 'a100000642'\n",
            " 'a100000691' 'a100000692' 'a100000693' 'a100000694' 'a100000695'\n",
            " 'a100000696' 'a100000697' 'a100000698' 'a100000718' 'a100000734'\n",
            " 'a100000735' 'a100000736' 'a100000737' 'a100000738' 'a100000739'\n",
            " 'a100000753' 'a100000754' 'a100000755' 'a100000763' 'a100000764'\n",
            " 'a100000765' 'a100000766' 'a100000767' 'a100000768' 'a100000769'\n",
            " 'a100000770' 'a100000771' 'a100000801' 'a100000802' 'a100000803'\n",
            " 'a100000804' 'a100000805' 'a100000806' 'a100000807' 'a100000808'\n",
            " 'a100000809' 'a100000826' 'a100000827' 'a100000828' 'a100000829'\n",
            " 'a100000830' 'a100000831' 'a100000832' 'a100000833' 'a100000855'\n",
            " 'a100000867' 'a100000868' 'a100000869' 'a100000870' 'a100000871'\n",
            " 'a100000872' 'a100000873' 'a100000874' 'a100000875' 'a100000888'\n",
            " 'a100000889' 'a100000890' 'a100000891' 'a100000892' 'a100000893'\n",
            " 'a100000894' 'a100000895' 'a100000896' 'a100000992' 'a100000993'\n",
            " 'a100000994' 'a100000995' 'a100000996' 'a100000997' 'a100000998'\n",
            " 'a100000999' 'a100001044' 'a100001090' 'a100001091' 'a100001092'\n",
            " 'a100001093' 'a100001094' 'a100001095' 'a100001096' 'a100001097'\n",
            " 'a100001098' 'a100001154' 'a100001155' 'a100001156' 'a100001157'\n",
            " 'a100001158' 'a100001159' 'a100001160' 'a100001161' 'a100001162'\n",
            " 'a100001166' 'a100001167' 'a100001168' 'a100001169' 'a100001170'\n",
            " 'a100001171' 'a100001172' 'a100001173' 'a100001174' 'a100001180'\n",
            " 'a100001181' 'a100001182' 'a100001183' 'a100001184' 'a100001185'\n",
            " 'a100001186' 'a100001187' 'a100001188' 'a100001198' 'a100001199'\n",
            " 'a100001200' 'a100001201' 'a100001202' 'a100001203' 'a100001204'\n",
            " 'a100001205' 'a100001206' 'a100001223' 'a100001224' 'a100001225'\n",
            " 'a100001226' 'a100001227' 'a100001228' 'a100001229' 'a100001230'\n",
            " 'a100001231' 'a100001290' 'a100001291' 'a100001292' 'a100001293'\n",
            " 'a100001294' 'a100001295' 'a100001296' 'a100001297' 'a100001298'\n",
            " 'a100001304' 'a100001305' 'a100001306' 'a100001307' 'a100001308'\n",
            " 'a100001309' 'a100001310' 'a100001311' 'a100001312' 'a100001342'\n",
            " 'a100001343' 'a100001344' 'a100001345' 'a100001346' 'a100001347'\n",
            " 'a100001348' 'a100001349' 'a100001350' 'a100001357' 'a100001358'\n",
            " 'a100001359' 'a100001360' 'a100001361' 'a100001362' 'a100001363'\n",
            " 'a100001364' 'a100001365' 'a100001373' 'a100001374' 'a100001375'\n",
            " 'a100001376' 'a100001377' 'a100001378' 'a100001379' 'a100001380'\n",
            " 'a100001381' 'a100007282' 'a100007283' 'a100007284' 'a100007285'\n",
            " 'a100007286' 'a100007287' 'a100007288' 'a100007289' 'a100007290']\n",
            "\n",
            "================Kolom dari date_served===============\n",
            "['2018-01-01T00:00:00.000000000' '2018-01-02T00:00:00.000000000'\n",
            " '2018-01-03T00:00:00.000000000' '2018-01-04T00:00:00.000000000'\n",
            " '2018-01-05T00:00:00.000000000' '2018-01-06T00:00:00.000000000'\n",
            " '2018-01-07T00:00:00.000000000' '2018-01-08T00:00:00.000000000'\n",
            " '2018-01-09T00:00:00.000000000' '2018-01-10T00:00:00.000000000'\n",
            " '2018-01-11T00:00:00.000000000' '2018-01-12T00:00:00.000000000'\n",
            " '2018-01-13T00:00:00.000000000' '2018-01-14T00:00:00.000000000'\n",
            " '2018-01-15T00:00:00.000000000' '2018-01-16T00:00:00.000000000'\n",
            " '2018-01-17T00:00:00.000000000' '2018-01-18T00:00:00.000000000'\n",
            " '2018-01-30T00:00:00.000000000' '2018-01-31T00:00:00.000000000'\n",
            " '2018-01-21T00:00:00.000000000' '2018-01-22T00:00:00.000000000'\n",
            " '2018-01-23T00:00:00.000000000' '2018-01-24T00:00:00.000000000'\n",
            " '2018-01-25T00:00:00.000000000' '2018-01-26T00:00:00.000000000'\n",
            " '2018-01-27T00:00:00.000000000' '2018-01-28T00:00:00.000000000'\n",
            " '2018-01-29T00:00:00.000000000' '2018-01-19T00:00:00.000000000'\n",
            " '2018-01-20T00:00:00.000000000']\n",
            "\n",
            "================Kolom dari marketing_channel===============\n",
            "['House Ads' 'Facebook' 'Push' 'Instagram' 'Email']\n",
            "\n",
            "================Kolom dari variant===============\n",
            "['personalization' 'control']\n",
            "\n",
            "================Kolom dari converted===============\n",
            "[ True False]\n",
            "\n",
            "================Kolom dari language_displayed===============\n",
            "['English' 'Arabic' 'German' 'Spanish']\n",
            "\n",
            "================Kolom dari language_preferred===============\n",
            "['English' 'Arabic' 'German' 'Spanish']\n",
            "\n",
            "================Kolom dari age_group===============\n",
            "['19-24 years' '24-30 years' '0-18 years' '45-55 years' '55+ years'\n",
            " '30-36 years' '36-45 years']\n",
            "\n",
            "================Kolom dari date_subscribed===============\n",
            "['2018-01-01T00:00:00.000000000' '2018-01-02T00:00:00.000000000'\n",
            " '2018-01-03T00:00:00.000000000' '2018-01-04T00:00:00.000000000'\n",
            " '2018-01-05T00:00:00.000000000' '2018-01-06T00:00:00.000000000'\n",
            " '2018-01-07T00:00:00.000000000' '2018-01-08T00:00:00.000000000'\n",
            " '2018-01-09T00:00:00.000000000' '2018-01-10T00:00:00.000000000'\n",
            " '2018-01-11T00:00:00.000000000' '2018-01-12T00:00:00.000000000'\n",
            " '2018-01-13T00:00:00.000000000' '2018-01-14T00:00:00.000000000'\n",
            " '2018-01-15T00:00:00.000000000' '2018-01-16T00:00:00.000000000'\n",
            " '2018-01-17T00:00:00.000000000' '2018-01-18T00:00:00.000000000'\n",
            " '2018-01-30T00:00:00.000000000' '2018-01-31T00:00:00.000000000'\n",
            " '2018-01-21T00:00:00.000000000' '2018-01-22T00:00:00.000000000'\n",
            " '2018-01-23T00:00:00.000000000' '2018-01-24T00:00:00.000000000'\n",
            " '2018-01-25T00:00:00.000000000' '2018-01-26T00:00:00.000000000'\n",
            " '2018-01-27T00:00:00.000000000' '2018-01-28T00:00:00.000000000'\n",
            " '2018-01-29T00:00:00.000000000' '2018-01-19T00:00:00.000000000'\n",
            " '2018-01-20T00:00:00.000000000']\n",
            "\n",
            "================Kolom dari date_canceled===============\n",
            "['2018-01-18T00:00:00.000000000' '2018-02-22T00:00:00.000000000'\n",
            " '2018-03-09T00:00:00.000000000' '2018-02-18T00:00:00.000000000'\n",
            " '2018-03-03T00:00:00.000000000' '2018-02-04T00:00:00.000000000'\n",
            " '2018-01-09T00:00:00.000000000' '2018-01-21T00:00:00.000000000'\n",
            " '2018-02-19T00:00:00.000000000' '2018-03-08T00:00:00.000000000'\n",
            " '2018-02-05T00:00:00.000000000' '2018-01-11T00:00:00.000000000'\n",
            " '2018-01-06T00:00:00.000000000' '2018-03-01T00:00:00.000000000'\n",
            " '2018-04-02T00:00:00.000000000' '2018-03-02T00:00:00.000000000'\n",
            " '2018-01-05T00:00:00.000000000' '2018-02-09T00:00:00.000000000'\n",
            " '2018-03-25T00:00:00.000000000' '2018-03-12T00:00:00.000000000'\n",
            " '2018-03-10T00:00:00.000000000' '2018-02-14T00:00:00.000000000'\n",
            " '2018-01-23T00:00:00.000000000' '2018-02-11T00:00:00.000000000'\n",
            " '2018-04-13T00:00:00.000000000' '2018-04-12T00:00:00.000000000'\n",
            " '2018-04-03T00:00:00.000000000' '2018-02-17T00:00:00.000000000'\n",
            " '2018-04-14T00:00:00.000000000' '2018-02-03T00:00:00.000000000'\n",
            " '2018-01-08T00:00:00.000000000' '2018-01-27T00:00:00.000000000'\n",
            " '2018-03-11T00:00:00.000000000' '2018-02-21T00:00:00.000000000'\n",
            " '2018-02-25T00:00:00.000000000' '2018-03-05T00:00:00.000000000'\n",
            " '2018-04-16T00:00:00.000000000' '2018-02-06T00:00:00.000000000'\n",
            " '2018-01-14T00:00:00.000000000' '2018-03-13T00:00:00.000000000'\n",
            " '2018-03-19T00:00:00.000000000' '2018-02-10T00:00:00.000000000'\n",
            " '2018-03-30T00:00:00.000000000' '2018-01-15T00:00:00.000000000'\n",
            " '2018-03-07T00:00:00.000000000' '2018-04-10T00:00:00.000000000'\n",
            " '2018-03-26T00:00:00.000000000' '2018-04-19T00:00:00.000000000'\n",
            " '2018-03-04T00:00:00.000000000' '2018-01-26T00:00:00.000000000'\n",
            " '2018-04-05T00:00:00.000000000' '2018-03-15T00:00:00.000000000'\n",
            " '2018-04-22T00:00:00.000000000' '2018-04-29T00:00:00.000000000'\n",
            " '2018-04-17T00:00:00.000000000' '2018-02-08T00:00:00.000000000'\n",
            " '2018-01-25T00:00:00.000000000' '2018-03-27T00:00:00.000000000'\n",
            " '2018-02-20T00:00:00.000000000' '2018-02-24T00:00:00.000000000'\n",
            " '2018-02-12T00:00:00.000000000' '2018-03-17T00:00:00.000000000'\n",
            " '2018-03-29T00:00:00.000000000' '2018-02-16T00:00:00.000000000'\n",
            " '2018-04-06T00:00:00.000000000' '2018-04-09T00:00:00.000000000'\n",
            " '2018-03-23T00:00:00.000000000' '2018-05-09T00:00:00.000000000'\n",
            " '2018-03-20T00:00:00.000000000' '2018-01-28T00:00:00.000000000'\n",
            " '2018-03-22T00:00:00.000000000' '2018-02-01T00:00:00.000000000'\n",
            " '2018-03-31T00:00:00.000000000' '2018-01-31T00:00:00.000000000'\n",
            " '2018-03-28T00:00:00.000000000' '2018-04-08T00:00:00.000000000'\n",
            " '2018-01-24T00:00:00.000000000' '2018-01-22T00:00:00.000000000'\n",
            " '2018-02-28T00:00:00.000000000' '2018-04-27T00:00:00.000000000'\n",
            " '2018-01-29T00:00:00.000000000' '2018-05-02T00:00:00.000000000'\n",
            " '2018-04-07T00:00:00.000000000' '2018-02-15T00:00:00.000000000'\n",
            " '2018-01-10T00:00:00.000000000' '2018-02-26T00:00:00.000000000'\n",
            " '2018-01-19T00:00:00.000000000' '2018-02-23T00:00:00.000000000'\n",
            " '2018-04-21T00:00:00.000000000' '2018-02-13T00:00:00.000000000'\n",
            " '2018-01-30T00:00:00.000000000' '2018-02-07T00:00:00.000000000'\n",
            " '2018-04-04T00:00:00.000000000' '2018-04-26T00:00:00.000000000'\n",
            " '2018-01-16T00:00:00.000000000' '2018-04-01T00:00:00.000000000'\n",
            " '2018-05-04T00:00:00.000000000' '2018-04-28T00:00:00.000000000'\n",
            " '2018-03-06T00:00:00.000000000' '2018-03-24T00:00:00.000000000'\n",
            " '2018-01-07T00:00:00.000000000' '2018-01-12T00:00:00.000000000'\n",
            " '2018-03-18T00:00:00.000000000' '2018-01-13T00:00:00.000000000'\n",
            " '2018-01-20T00:00:00.000000000' '2018-03-16T00:00:00.000000000'\n",
            " '2018-04-11T00:00:00.000000000' '2018-01-17T00:00:00.000000000'\n",
            " '2018-04-20T00:00:00.000000000' '2018-05-01T00:00:00.000000000'\n",
            " '2018-04-23T00:00:00.000000000' '2018-02-02T00:00:00.000000000'\n",
            " '2018-04-25T00:00:00.000000000' '2018-04-30T00:00:00.000000000'\n",
            " '2018-05-07T00:00:00.000000000']\n",
            "\n",
            "================Kolom dari subscribing_channel===============\n",
            "['House Ads' 'Facebook' 'Instagram' 'Email' 'Push']\n",
            "\n",
            "================Kolom dari is_retained===============\n",
            "[False]\n",
            "\n",
            "================Kolom dari conversion===============\n",
            "[1 0]\n",
            "\n"
          ]
        }
      ]
    },
    {
      "cell_type": "code",
      "source": [
        "#remove kolom is retained because just have one value\n",
        "df = df.drop(\"is_retained\",axis=1)\n",
        "df.head()"
      ],
      "metadata": {
        "colab": {
          "base_uri": "https://localhost:8080/",
          "height": 339
        },
        "id": "S0sOYE7bg3MW",
        "outputId": "4a1e7fec-f357-4a0b-f4df-34c5afd5460c"
      },
      "execution_count": 8,
      "outputs": [
        {
          "output_type": "execute_result",
          "data": {
            "text/plain": [
              "      user_id date_served marketing_channel          variant  converted  \\\n",
              "0  a100000040  2018-01-01         House Ads  personalization       True   \n",
              "1  a100000041  2018-01-01         House Ads  personalization       True   \n",
              "2  a100000042  2018-01-01         House Ads  personalization       True   \n",
              "3  a100000043  2018-01-01         House Ads  personalization       True   \n",
              "4  a100000044  2018-01-01         House Ads  personalization       True   \n",
              "\n",
              "  language_displayed language_preferred    age_group date_subscribed  \\\n",
              "0            English            English  19-24 years      2018-01-01   \n",
              "1             Arabic             Arabic  24-30 years      2018-01-01   \n",
              "2            English            English   0-18 years      2018-01-01   \n",
              "3            English            English  19-24 years      2018-01-01   \n",
              "4             Arabic             Arabic  24-30 years      2018-01-01   \n",
              "\n",
              "  date_canceled subscribing_channel  conversion  \n",
              "0    2018-01-18           House Ads           1  \n",
              "1    2018-02-22           House Ads           1  \n",
              "2    2018-03-09           House Ads           1  \n",
              "3    2018-02-18           House Ads           1  \n",
              "4    2018-03-03           House Ads           1  "
            ],
            "text/html": [
              "\n",
              "  <div id=\"df-5306f0e6-d91c-4ba9-a634-5d238da3bcf2\">\n",
              "    <div class=\"colab-df-container\">\n",
              "      <div>\n",
              "<style scoped>\n",
              "    .dataframe tbody tr th:only-of-type {\n",
              "        vertical-align: middle;\n",
              "    }\n",
              "\n",
              "    .dataframe tbody tr th {\n",
              "        vertical-align: top;\n",
              "    }\n",
              "\n",
              "    .dataframe thead th {\n",
              "        text-align: right;\n",
              "    }\n",
              "</style>\n",
              "<table border=\"1\" class=\"dataframe\">\n",
              "  <thead>\n",
              "    <tr style=\"text-align: right;\">\n",
              "      <th></th>\n",
              "      <th>user_id</th>\n",
              "      <th>date_served</th>\n",
              "      <th>marketing_channel</th>\n",
              "      <th>variant</th>\n",
              "      <th>converted</th>\n",
              "      <th>language_displayed</th>\n",
              "      <th>language_preferred</th>\n",
              "      <th>age_group</th>\n",
              "      <th>date_subscribed</th>\n",
              "      <th>date_canceled</th>\n",
              "      <th>subscribing_channel</th>\n",
              "      <th>conversion</th>\n",
              "    </tr>\n",
              "  </thead>\n",
              "  <tbody>\n",
              "    <tr>\n",
              "      <th>0</th>\n",
              "      <td>a100000040</td>\n",
              "      <td>2018-01-01</td>\n",
              "      <td>House Ads</td>\n",
              "      <td>personalization</td>\n",
              "      <td>True</td>\n",
              "      <td>English</td>\n",
              "      <td>English</td>\n",
              "      <td>19-24 years</td>\n",
              "      <td>2018-01-01</td>\n",
              "      <td>2018-01-18</td>\n",
              "      <td>House Ads</td>\n",
              "      <td>1</td>\n",
              "    </tr>\n",
              "    <tr>\n",
              "      <th>1</th>\n",
              "      <td>a100000041</td>\n",
              "      <td>2018-01-01</td>\n",
              "      <td>House Ads</td>\n",
              "      <td>personalization</td>\n",
              "      <td>True</td>\n",
              "      <td>Arabic</td>\n",
              "      <td>Arabic</td>\n",
              "      <td>24-30 years</td>\n",
              "      <td>2018-01-01</td>\n",
              "      <td>2018-02-22</td>\n",
              "      <td>House Ads</td>\n",
              "      <td>1</td>\n",
              "    </tr>\n",
              "    <tr>\n",
              "      <th>2</th>\n",
              "      <td>a100000042</td>\n",
              "      <td>2018-01-01</td>\n",
              "      <td>House Ads</td>\n",
              "      <td>personalization</td>\n",
              "      <td>True</td>\n",
              "      <td>English</td>\n",
              "      <td>English</td>\n",
              "      <td>0-18 years</td>\n",
              "      <td>2018-01-01</td>\n",
              "      <td>2018-03-09</td>\n",
              "      <td>House Ads</td>\n",
              "      <td>1</td>\n",
              "    </tr>\n",
              "    <tr>\n",
              "      <th>3</th>\n",
              "      <td>a100000043</td>\n",
              "      <td>2018-01-01</td>\n",
              "      <td>House Ads</td>\n",
              "      <td>personalization</td>\n",
              "      <td>True</td>\n",
              "      <td>English</td>\n",
              "      <td>English</td>\n",
              "      <td>19-24 years</td>\n",
              "      <td>2018-01-01</td>\n",
              "      <td>2018-02-18</td>\n",
              "      <td>House Ads</td>\n",
              "      <td>1</td>\n",
              "    </tr>\n",
              "    <tr>\n",
              "      <th>4</th>\n",
              "      <td>a100000044</td>\n",
              "      <td>2018-01-01</td>\n",
              "      <td>House Ads</td>\n",
              "      <td>personalization</td>\n",
              "      <td>True</td>\n",
              "      <td>Arabic</td>\n",
              "      <td>Arabic</td>\n",
              "      <td>24-30 years</td>\n",
              "      <td>2018-01-01</td>\n",
              "      <td>2018-03-03</td>\n",
              "      <td>House Ads</td>\n",
              "      <td>1</td>\n",
              "    </tr>\n",
              "  </tbody>\n",
              "</table>\n",
              "</div>\n",
              "      <button class=\"colab-df-convert\" onclick=\"convertToInteractive('df-5306f0e6-d91c-4ba9-a634-5d238da3bcf2')\"\n",
              "              title=\"Convert this dataframe to an interactive table.\"\n",
              "              style=\"display:none;\">\n",
              "        \n",
              "  <svg xmlns=\"http://www.w3.org/2000/svg\" height=\"24px\"viewBox=\"0 0 24 24\"\n",
              "       width=\"24px\">\n",
              "    <path d=\"M0 0h24v24H0V0z\" fill=\"none\"/>\n",
              "    <path d=\"M18.56 5.44l.94 2.06.94-2.06 2.06-.94-2.06-.94-.94-2.06-.94 2.06-2.06.94zm-11 1L8.5 8.5l.94-2.06 2.06-.94-2.06-.94L8.5 2.5l-.94 2.06-2.06.94zm10 10l.94 2.06.94-2.06 2.06-.94-2.06-.94-.94-2.06-.94 2.06-2.06.94z\"/><path d=\"M17.41 7.96l-1.37-1.37c-.4-.4-.92-.59-1.43-.59-.52 0-1.04.2-1.43.59L10.3 9.45l-7.72 7.72c-.78.78-.78 2.05 0 2.83L4 21.41c.39.39.9.59 1.41.59.51 0 1.02-.2 1.41-.59l7.78-7.78 2.81-2.81c.8-.78.8-2.07 0-2.86zM5.41 20L4 18.59l7.72-7.72 1.47 1.35L5.41 20z\"/>\n",
              "  </svg>\n",
              "      </button>\n",
              "      \n",
              "  <style>\n",
              "    .colab-df-container {\n",
              "      display:flex;\n",
              "      flex-wrap:wrap;\n",
              "      gap: 12px;\n",
              "    }\n",
              "\n",
              "    .colab-df-convert {\n",
              "      background-color: #E8F0FE;\n",
              "      border: none;\n",
              "      border-radius: 50%;\n",
              "      cursor: pointer;\n",
              "      display: none;\n",
              "      fill: #1967D2;\n",
              "      height: 32px;\n",
              "      padding: 0 0 0 0;\n",
              "      width: 32px;\n",
              "    }\n",
              "\n",
              "    .colab-df-convert:hover {\n",
              "      background-color: #E2EBFA;\n",
              "      box-shadow: 0px 1px 2px rgba(60, 64, 67, 0.3), 0px 1px 3px 1px rgba(60, 64, 67, 0.15);\n",
              "      fill: #174EA6;\n",
              "    }\n",
              "\n",
              "    [theme=dark] .colab-df-convert {\n",
              "      background-color: #3B4455;\n",
              "      fill: #D2E3FC;\n",
              "    }\n",
              "\n",
              "    [theme=dark] .colab-df-convert:hover {\n",
              "      background-color: #434B5C;\n",
              "      box-shadow: 0px 1px 3px 1px rgba(0, 0, 0, 0.15);\n",
              "      filter: drop-shadow(0px 1px 2px rgba(0, 0, 0, 0.3));\n",
              "      fill: #FFFFFF;\n",
              "    }\n",
              "  </style>\n",
              "\n",
              "      <script>\n",
              "        const buttonEl =\n",
              "          document.querySelector('#df-5306f0e6-d91c-4ba9-a634-5d238da3bcf2 button.colab-df-convert');\n",
              "        buttonEl.style.display =\n",
              "          google.colab.kernel.accessAllowed ? 'block' : 'none';\n",
              "\n",
              "        async function convertToInteractive(key) {\n",
              "          const element = document.querySelector('#df-5306f0e6-d91c-4ba9-a634-5d238da3bcf2');\n",
              "          const dataTable =\n",
              "            await google.colab.kernel.invokeFunction('convertToInteractive',\n",
              "                                                     [key], {});\n",
              "          if (!dataTable) return;\n",
              "\n",
              "          const docLinkHtml = 'Like what you see? Visit the ' +\n",
              "            '<a target=\"_blank\" href=https://colab.research.google.com/notebooks/data_table.ipynb>data table notebook</a>'\n",
              "            + ' to learn more about interactive tables.';\n",
              "          element.innerHTML = '';\n",
              "          dataTable['output_type'] = 'display_data';\n",
              "          await google.colab.output.renderOutput(dataTable, element);\n",
              "          const docLink = document.createElement('div');\n",
              "          docLink.innerHTML = docLinkHtml;\n",
              "          element.appendChild(docLink);\n",
              "        }\n",
              "      </script>\n",
              "    </div>\n",
              "  </div>\n",
              "  "
            ]
          },
          "metadata": {},
          "execution_count": 8
        }
      ]
    },
    {
      "cell_type": "markdown",
      "source": [
        "# Eksploratory Data Analytics"
      ],
      "metadata": {
        "id": "JwfdZ64Qhviv"
      }
    },
    {
      "cell_type": "markdown",
      "source": [
        "# Jumlah channel user per marketing channel"
      ],
      "metadata": {
        "id": "kpU7hZeshzda"
      }
    },
    {
      "cell_type": "code",
      "source": [
        "marketing_user = df.groupby(\"marketing_channel\").agg({\"user_id\":\"nunique\"})\n",
        "marketing_user.sort_values(\"user_id\",ascending=True).plot(kind='barh').set_title(\"Jumlah User Per Marketing Channel\",fontsize=12)\n",
        "plt.xlabel(\"Jumlah User\",fontsize=12)\n",
        "plt.ylabel(\"Marketing Channel\",fontsize=12)"
      ],
      "metadata": {
        "colab": {
          "base_uri": "https://localhost:8080/",
          "height": 316
        },
        "id": "7t5NBdObhEPY",
        "outputId": "21af3871-68aa-4e35-961e-2898abbebc64"
      },
      "execution_count": 9,
      "outputs": [
        {
          "output_type": "execute_result",
          "data": {
            "text/plain": [
              "Text(0, 0.5, 'Marketing Channel')"
            ]
          },
          "metadata": {},
          "execution_count": 9
        },
        {
          "output_type": "display_data",
          "data": {
            "text/plain": [
              "<Figure size 432x288 with 1 Axes>"
            ],
            "image/png": "[encoded data removed]"
          },
          "metadata": {
            "needs_background": "light"
          }
        }
      ]
    },
    {
      "cell_type": "markdown",
      "source": [
        "House Ads memiliki jumlah user terbanyak yaitu sekitar 200 disusul dengan instagram dan facebook sekitar 100 users"
      ],
      "metadata": {
        "id": "1egWDadKjg0K"
      }
    },
    {
      "cell_type": "code",
      "source": [
        "df.groupby([\"marketing_channel\",\"variant\"]).agg({\"conversion\":['count','sum','mean']})"
      ],
      "metadata": {
        "colab": {
          "base_uri": "https://localhost:8080/",
          "height": 425
        },
        "id": "O0KfoNTZ3qeg",
        "outputId": "edcaf987-943d-40f2-8779-61749ef9ef4b"
      },
      "execution_count": 10,
      "outputs": [
        {
          "output_type": "execute_result",
          "data": {
            "text/plain": [
              "                                  conversion              \n",
              "                                       count sum      mean\n",
              "marketing_channel variant                                 \n",
              "Email             control                 23  23  1.000000\n",
              "                  personalization         30  21  0.700000\n",
              "Facebook          control                 37   5  0.135135\n",
              "                  personalization         68  66  0.970588\n",
              "House Ads         control                147  70  0.476190\n",
              "                  personalization        111  55  0.495495\n",
              "Instagram         control                 44  11  0.250000\n",
              "                  personalization         77  73  0.948052\n",
              "Push              control                 16   3  0.187500\n",
              "                  personalization         24  22  0.916667"
            ],
            "text/html": [
              "\n",
              "  <div id=\"df-c57bc9f8-ba01-4f61-b493-0b1bed823778\">\n",
              "    <div class=\"colab-df-container\">\n",
              "      <div>\n",
              "<style scoped>\n",
              "    .dataframe tbody tr th:only-of-type {\n",
              "        vertical-align: middle;\n",
              "    }\n",
              "\n",
              "    .dataframe tbody tr th {\n",
              "        vertical-align: top;\n",
              "    }\n",
              "\n",
              "    .dataframe thead tr th {\n",
              "        text-align: left;\n",
              "    }\n",
              "\n",
              "    .dataframe thead tr:last-of-type th {\n",
              "        text-align: right;\n",
              "    }\n",
              "</style>\n",
              "<table border=\"1\" class=\"dataframe\">\n",
              "  <thead>\n",
              "    <tr>\n",
              "      <th></th>\n",
              "      <th></th>\n",
              "      <th colspan=\"3\" halign=\"left\">conversion</th>\n",
              "    </tr>\n",
              "    <tr>\n",
              "      <th></th>\n",
              "      <th></th>\n",
              "      <th>count</th>\n",
              "      <th>sum</th>\n",
              "      <th>mean</th>\n",
              "    </tr>\n",
              "    <tr>\n",
              "      <th>marketing_channel</th>\n",
              "      <th>variant</th>\n",
              "      <th></th>\n",
              "      <th></th>\n",
              "      <th></th>\n",
              "    </tr>\n",
              "  </thead>\n",
              "  <tbody>\n",
              "    <tr>\n",
              "      <th rowspan=\"2\" valign=\"top\">Email</th>\n",
              "      <th>control</th>\n",
              "      <td>23</td>\n",
              "      <td>23</td>\n",
              "      <td>1.000000</td>\n",
              "    </tr>\n",
              "    <tr>\n",
              "      <th>personalization</th>\n",
              "      <td>30</td>\n",
              "      <td>21</td>\n",
              "      <td>0.700000</td>\n",
              "    </tr>\n",
              "    <tr>\n",
              "      <th rowspan=\"2\" valign=\"top\">Facebook</th>\n",
              "      <th>control</th>\n",
              "      <td>37</td>\n",
              "      <td>5</td>\n",
              "      <td>0.135135</td>\n",
              "    </tr>\n",
              "    <tr>\n",
              "      <th>personalization</th>\n",
              "      <td>68</td>\n",
              "      <td>66</td>\n",
              "      <td>0.970588</td>\n",
              "    </tr>\n",
              "    <tr>\n",
              "      <th rowspan=\"2\" valign=\"top\">House Ads</th>\n",
              "      <th>control</th>\n",
              "      <td>147</td>\n",
              "      <td>70</td>\n",
              "      <td>0.476190</td>\n",
              "    </tr>\n",
              "    <tr>\n",
              "      <th>personalization</th>\n",
              "      <td>111</td>\n",
              "      <td>55</td>\n",
              "      <td>0.495495</td>\n",
              "    </tr>\n",
              "    <tr>\n",
              "      <th rowspan=\"2\" valign=\"top\">Instagram</th>\n",
              "      <th>control</th>\n",
              "      <td>44</td>\n",
              "      <td>11</td>\n",
              "      <td>0.250000</td>\n",
              "    </tr>\n",
              "    <tr>\n",
              "      <th>personalization</th>\n",
              "      <td>77</td>\n",
              "      <td>73</td>\n",
              "      <td>0.948052</td>\n",
              "    </tr>\n",
              "    <tr>\n",
              "      <th rowspan=\"2\" valign=\"top\">Push</th>\n",
              "      <th>control</th>\n",
              "      <td>16</td>\n",
              "      <td>3</td>\n",
              "      <td>0.187500</td>\n",
              "    </tr>\n",
              "    <tr>\n",
              "      <th>personalization</th>\n",
              "      <td>24</td>\n",
              "      <td>22</td>\n",
              "      <td>0.916667</td>\n",
              "    </tr>\n",
              "  </tbody>\n",
              "</table>\n",
              "</div>\n",
              "      <button class=\"colab-df-convert\" onclick=\"convertToInteractive('df-c57bc9f8-ba01-4f61-b493-0b1bed823778')\"\n",
              "              title=\"Convert this dataframe to an interactive table.\"\n",
              "              style=\"display:none;\">\n",
              "        \n",
              "  <svg xmlns=\"http://www.w3.org/2000/svg\" height=\"24px\"viewBox=\"0 0 24 24\"\n",
              "       width=\"24px\">\n",
              "    <path d=\"M0 0h24v24H0V0z\" fill=\"none\"/>\n",
              "    <path d=\"M18.56 5.44l.94 2.06.94-2.06 2.06-.94-2.06-.94-.94-2.06-.94 2.06-2.06.94zm-11 1L8.5 8.5l.94-2.06 2.06-.94-2.06-.94L8.5 2.5l-.94 2.06-2.06.94zm10 10l.94 2.06.94-2.06 2.06-.94-2.06-.94-.94-2.06-.94 2.06-2.06.94z\"/><path d=\"M17.41 7.96l-1.37-1.37c-.4-.4-.92-.59-1.43-.59-.52 0-1.04.2-1.43.59L10.3 9.45l-7.72 7.72c-.78.78-.78 2.05 0 2.83L4 21.41c.39.39.9.59 1.41.59.51 0 1.02-.2 1.41-.59l7.78-7.78 2.81-2.81c.8-.78.8-2.07 0-2.86zM5.41 20L4 18.59l7.72-7.72 1.47 1.35L5.41 20z\"/>\n",
              "  </svg>\n",
              "      </button>\n",
              "      \n",
              "  <style>\n",
              "    .colab-df-container {\n",
              "      display:flex;\n",
              "      flex-wrap:wrap;\n",
              "      gap: 12px;\n",
              "    }\n",
              "\n",
              "    .colab-df-convert {\n",
              "      background-color: #E8F0FE;\n",
              "      border: none;\n",
              "      border-radius: 50%;\n",
              "      cursor: pointer;\n",
              "      display: none;\n",
              "      fill: #1967D2;\n",
              "      height: 32px;\n",
              "      padding: 0 0 0 0;\n",
              "      width: 32px;\n",
              "    }\n",
              "\n",
              "    .colab-df-convert:hover {\n",
              "      background-color: #E2EBFA;\n",
              "      box-shadow: 0px 1px 2px rgba(60, 64, 67, 0.3), 0px 1px 3px 1px rgba(60, 64, 67, 0.15);\n",
              "      fill: #174EA6;\n",
              "    }\n",
              "\n",
              "    [theme=dark] .colab-df-convert {\n",
              "      background-color: #3B4455;\n",
              "      fill: #D2E3FC;\n",
              "    }\n",
              "\n",
              "    [theme=dark] .colab-df-convert:hover {\n",
              "      background-color: #434B5C;\n",
              "      box-shadow: 0px 1px 3px 1px rgba(0, 0, 0, 0.15);\n",
              "      filter: drop-shadow(0px 1px 2px rgba(0, 0, 0, 0.3));\n",
              "      fill: #FFFFFF;\n",
              "    }\n",
              "  </style>\n",
              "\n",
              "      <script>\n",
              "        const buttonEl =\n",
              "          document.querySelector('#df-c57bc9f8-ba01-4f61-b493-0b1bed823778 button.colab-df-convert');\n",
              "        buttonEl.style.display =\n",
              "          google.colab.kernel.accessAllowed ? 'block' : 'none';\n",
              "\n",
              "        async function convertToInteractive(key) {\n",
              "          const element = document.querySelector('#df-c57bc9f8-ba01-4f61-b493-0b1bed823778');\n",
              "          const dataTable =\n",
              "            await google.colab.kernel.invokeFunction('convertToInteractive',\n",
              "                                                     [key], {});\n",
              "          if (!dataTable) return;\n",
              "\n",
              "          const docLinkHtml = 'Like what you see? Visit the ' +\n",
              "            '<a target=\"_blank\" href=https://colab.research.google.com/notebooks/data_table.ipynb>data table notebook</a>'\n",
              "            + ' to learn more about interactive tables.';\n",
              "          element.innerHTML = '';\n",
              "          dataTable['output_type'] = 'display_data';\n",
              "          await google.colab.output.renderOutput(dataTable, element);\n",
              "          const docLink = document.createElement('div');\n",
              "          docLink.innerHTML = docLinkHtml;\n",
              "          element.appendChild(docLink);\n",
              "        }\n",
              "      </script>\n",
              "    </div>\n",
              "  </div>\n",
              "  "
            ]
          },
          "metadata": {},
          "execution_count": 10
        }
      ]
    },
    {
      "cell_type": "markdown",
      "source": [
        "secara convertion by marketing channel terlihat bahwa : <br>\n",
        "1.Email, Personalization terjadi penurunan convertion rate <br>\n",
        "2.Facebook, Personalization terjadi peningkatan convertion rate <br>\n",
        "3.House Ads, perbedaan tidak beda jauh (akan dilakukan uji chi square untuk melihat perbedaan significant secara statistik atau tidak ) <br>\n",
        "4.Instagram, Personalization terjadi peningkatan convertion rate <br>\n",
        "5.Push, Personalization terjadi peningkatan convertion rate"
      ],
      "metadata": {
        "id": "dUqI8MCG4FVd"
      }
    },
    {
      "cell_type": "code",
      "source": [
        "#chi square test House ads\n",
        "Ho=\"Perbedaan tidak signifikant\"\n",
        "H1= \"Perbedaan signifikant\"\n",
        "\n",
        "house_ads = df[df['marketing_channel']==\"House Ads\"][[\"variant\",\"conversion\"]]\n",
        "house_ads = pd.crosstab(house_ads[\"variant\"],house_ads[\"conversion\"])\n",
        "\n",
        "from scipy.stats import chi2_contingency\n",
        "\n",
        "c, p, dof, expected = chi2_contingency(house_ads)\n",
        "\n",
        "if p<0.05:\n",
        "    print(H1,\"as p value than 0.05, p value is {}\".format(p))\n",
        "else:\n",
        "    print(Ho,\"as p value more than 0.05, p value is {}\".format(p))"
      ],
      "metadata": {
        "colab": {
          "base_uri": "https://localhost:8080/"
        },
        "id": "cjuz60K64wt_",
        "outputId": "11a356d7-4108-4efe-ca60-9ae5271893b9"
      },
      "execution_count": 11,
      "outputs": [
        {
          "output_type": "stream",
          "name": "stdout",
          "text": [
            "Perbedaan tidak signifikant as p value more than 0.05, p value is 0.8560586900716323\n"
          ]
        }
      ]
    },
    {
      "cell_type": "markdown",
      "source": [
        "ternayata perbedaan tidak signifikant secara statistik antara personalization dan control dari house ads terhadap convertion"
      ],
      "metadata": {
        "id": "5Q-7hlry5ftC"
      }
    },
    {
      "cell_type": "markdown",
      "source": [
        "## Jumlah User per Variant"
      ],
      "metadata": {
        "id": "RtsDnlPfjoMg"
      }
    },
    {
      "cell_type": "code",
      "source": [
        "variant_user = df.groupby(\"variant\").agg({\"user_id\":\"nunique\"})\n",
        "variant_user.sort_values(\"user_id\",ascending=True).plot(kind='barh').set_title(\"Jumlah User Per variant\",fontsize=12)\n",
        "plt.xlabel(\"Jumlah User\",fontsize=12)\n",
        "plt.ylabel(\"variant\",fontsize=12)"
      ],
      "metadata": {
        "colab": {
          "base_uri": "https://localhost:8080/",
          "height": 316
        },
        "id": "jwmdty13jrIC",
        "outputId": "6877ec90-b351-4b0b-c6ee-60636ebabaec"
      },
      "execution_count": 12,
      "outputs": [
        {
          "output_type": "execute_result",
          "data": {
            "text/plain": [
              "Text(0, 0.5, 'variant')"
            ]
          },
          "metadata": {},
          "execution_count": 12
        },
        {
          "output_type": "display_data",
          "data": {
            "text/plain": [
              "<Figure size 432x288 with 1 Axes>"
            ],
            "image/png": "[encoded data removed]"
          },
          "metadata": {
            "needs_background": "light"
          }
        }
      ]
    },
    {
      "cell_type": "markdown",
      "source": [
        "jumlah variant personalization sedikit lebih banyak dibandingkan dengan jumlah user dari control group. data variant dapat dikategorikan tidak imbalance"
      ],
      "metadata": {
        "id": "FpNPo6w5jz4O"
      }
    },
    {
      "cell_type": "markdown",
      "source": [
        "## Jumlah user converted pervariant"
      ],
      "metadata": {
        "id": "rB-EhicYj_yz"
      }
    },
    {
      "cell_type": "code",
      "source": [
        "plt.figure(figsize=(8,6),dpi=90)\n",
        "sns.countplot(data=df,x=\"variant\",hue=\"conversion\").set_title(\"Jumlah User Converted\",fontsize=12)\n",
        "plt.xlabel(\"Varian\",fontsize=12)\n",
        "plt.ylabel(\"Jumlah User\",fontsize=12)"
      ],
      "metadata": {
        "colab": {
          "base_uri": "https://localhost:8080/",
          "height": 521
        },
        "id": "SbELufpmkE-2",
        "outputId": "5041c49f-0b35-46cb-dda3-4f651aacfb4e"
      },
      "execution_count": 13,
      "outputs": [
        {
          "output_type": "execute_result",
          "data": {
            "text/plain": [
              "Text(0, 0.5, 'Jumlah User')"
            ]
          },
          "metadata": {},
          "execution_count": 13
        },
        {
          "output_type": "display_data",
          "data": {
            "text/plain": [
              "<Figure size 720x540 with 1 Axes>"
            ],
            "image/png": "[encoded data removed]"
          },
          "metadata": {
            "needs_background": "light"
          }
        }
      ]
    },
    {
      "cell_type": "markdown",
      "source": [
        "ternyata jumlah user yang terkonversi bedasrakan jenis varian adalah personalisation berkisar 237 dibandingkan yang tidak terkonversi berkisar 73 convertion rate sebesar ~76% sedangkan jumlah user terkonversi dari variant control sebesar 112 dan tidak terkonversi sebesar 155 dengan tingkat convertion rate sebesar ~42%"
      ],
      "metadata": {
        "id": "vCLymwLxkpX2"
      }
    },
    {
      "cell_type": "markdown",
      "source": [
        "## Jumlah Converted per covariant waktu per waktu"
      ],
      "metadata": {
        "id": "AKWuEYMGlk4N"
      }
    },
    {
      "cell_type": "code",
      "source": [
        "#untuk mencari jumlah konversi dari waktu ke waktu maka dapar menggunakan colom date subscribe untuk mengetahui kapan saja user terkonversi\n",
        "df[\"date_subscribed\"].unique()"
      ],
      "metadata": {
        "colab": {
          "base_uri": "https://localhost:8080/"
        },
        "id": "43GMuTX0lXlR",
        "outputId": "69fd65ef-c6f9-4244-ef11-51db551ab89c"
      },
      "execution_count": 14,
      "outputs": [
        {
          "output_type": "execute_result",
          "data": {
            "text/plain": [
              "array(['2018-01-01T00:00:00.000000000', '2018-01-02T00:00:00.000000000',\n",
              "       '2018-01-03T00:00:00.000000000', '2018-01-04T00:00:00.000000000',\n",
              "       '2018-01-05T00:00:00.000000000', '2018-01-06T00:00:00.000000000',\n",
              "       '2018-01-07T00:00:00.000000000', '2018-01-08T00:00:00.000000000',\n",
              "       '2018-01-09T00:00:00.000000000', '2018-01-10T00:00:00.000000000',\n",
              "       '2018-01-11T00:00:00.000000000', '2018-01-12T00:00:00.000000000',\n",
              "       '2018-01-13T00:00:00.000000000', '2018-01-14T00:00:00.000000000',\n",
              "       '2018-01-15T00:00:00.000000000', '2018-01-16T00:00:00.000000000',\n",
              "       '2018-01-17T00:00:00.000000000', '2018-01-18T00:00:00.000000000',\n",
              "       '2018-01-30T00:00:00.000000000', '2018-01-31T00:00:00.000000000',\n",
              "       '2018-01-21T00:00:00.000000000', '2018-01-22T00:00:00.000000000',\n",
              "       '2018-01-23T00:00:00.000000000', '2018-01-24T00:00:00.000000000',\n",
              "       '2018-01-25T00:00:00.000000000', '2018-01-26T00:00:00.000000000',\n",
              "       '2018-01-27T00:00:00.000000000', '2018-01-28T00:00:00.000000000',\n",
              "       '2018-01-29T00:00:00.000000000', '2018-01-19T00:00:00.000000000',\n",
              "       '2018-01-20T00:00:00.000000000'], dtype='datetime64[ns]')"
            ]
          },
          "metadata": {},
          "execution_count": 14
        }
      ]
    },
    {
      "cell_type": "markdown",
      "source": [
        "bulan dan tahun sama, maka kita hanya akan menggunakan tanggalnya saya"
      ],
      "metadata": {
        "id": "f0GaInMnmO-S"
      }
    },
    {
      "cell_type": "code",
      "source": [
        "rate_subscribe = df[[\"date_subscribed\",\"variant\",\"conversion\"]].copy()\n",
        "rate_subscribe['day'] = rate_subscribe[\"date_subscribed\"].dt.day\n",
        "rate_subscribe = rate_subscribe.groupby([\"day\",\"variant\"],as_index=False)[\"conversion\"].sum()\n",
        "\n",
        "#visual\n",
        "sns.lineplot(data=rate_subscribe,x='day',y=\"conversion\",hue='variant').set_title(\"Jumlah Conversion Per Waktu\",fontsize=12)\n",
        "plt.xlabel(\"Day\",fontsize=12)\n",
        "plt.ylabel(\"Jumlah Conversion\",fontsize=12)"
      ],
      "metadata": {
        "colab": {
          "base_uri": "https://localhost:8080/",
          "height": 316
        },
        "id": "bL6tg0sil3_N",
        "outputId": "32cf0bf1-a764-467d-931f-575cbf5dc72b"
      },
      "execution_count": 15,
      "outputs": [
        {
          "output_type": "execute_result",
          "data": {
            "text/plain": [
              "Text(0, 0.5, 'Jumlah Conversion')"
            ]
          },
          "metadata": {},
          "execution_count": 15
        },
        {
          "output_type": "display_data",
          "data": {
            "text/plain": [
              "<Figure size 432x288 with 1 Axes>"
            ],
            "image/png": "[encoded data removed]"
          },
          "metadata": {
            "needs_background": "light"
          }
        }
      ]
    },
    {
      "cell_type": "markdown",
      "source": [
        "seperti yang terlihat terjanya convertion rate per waktu antara kelompok variant memiliki jumlah yang sama tetapi kita dapat mengetahui jumlah konversi yang banyak terjadi di tanggal 15 untuk personalization dan tanggal 16 pada kelompok control"
      ],
      "metadata": {
        "id": "y_Hgz5OPn6uO"
      }
    },
    {
      "cell_type": "markdown",
      "source": [
        "## Jumlah user converted per Age Group"
      ],
      "metadata": {
        "id": "QycN_9nboMla"
      }
    },
    {
      "cell_type": "code",
      "source": [
        "age_conversion = df.groupby(\"age_group\")[\"conversion\"].sum()\n",
        "age_conversion.plot(kind=\"bar\").set_title(\"Jumlah Conversion Per Age Group\",fontsize=12)\n",
        "plt.xlabel(\"Age group\",fontsize=12)\n",
        "plt.ylabel(\"Jumlah\",fontsize=12)"
      ],
      "metadata": {
        "colab": {
          "base_uri": "https://localhost:8080/",
          "height": 366
        },
        "id": "X3eXxL9qmtef",
        "outputId": "5f7479e3-4909-4a0c-a8ba-4addd1927a38"
      },
      "execution_count": 16,
      "outputs": [
        {
          "output_type": "execute_result",
          "data": {
            "text/plain": [
              "Text(0, 0.5, 'Jumlah')"
            ]
          },
          "metadata": {},
          "execution_count": 16
        },
        {
          "output_type": "display_data",
          "data": {
            "text/plain": [
              "<Figure size 432x288 with 1 Axes>"
            ],
            "image/png": "[encoded data removed]"
          },
          "metadata": {
            "needs_background": "light"
          }
        }
      ]
    },
    {
      "cell_type": "markdown",
      "source": [
        "jumlah konversi terbanyak terlihat pada kelompok 19-24 tahun disusul dengan age group 24-30 tahun. secara graofik memberikan kita informasi bahwa kelompok rentang umur muda (batasan umur 0-30 tahun) sangat banyak yang terkonversi dan ini dapat menjadi target yang bagus"
      ],
      "metadata": {
        "id": "SGfF0mWvo3FZ"
      }
    },
    {
      "cell_type": "code",
      "source": [
        "age_conversion = df.groupby([\"age_group\",\"variant\"])[\"conversion\"].sum().unstack()\n",
        "age_conversion.plot(kind=\"bar\").set_title(\"Jumlah Conversion Per Age Group dan variant\",fontsize=12)\n",
        "plt.xlabel(\"Age group\",fontsize=12)\n",
        "plt.ylabel(\"Jumlah\",fontsize=12)"
      ],
      "metadata": {
        "colab": {
          "base_uri": "https://localhost:8080/",
          "height": 366
        },
        "id": "cF6ZiyJz7CNu",
        "outputId": "ffbde2fb-9765-4ede-9734-7a111adb150f"
      },
      "execution_count": 17,
      "outputs": [
        {
          "output_type": "execute_result",
          "data": {
            "text/plain": [
              "Text(0, 0.5, 'Jumlah')"
            ]
          },
          "metadata": {},
          "execution_count": 17
        },
        {
          "output_type": "display_data",
          "data": {
            "text/plain": [
              "<Figure size 432x288 with 1 Axes>"
            ],
            "image/png": "[encoded data removed]"
          },
          "metadata": {
            "needs_background": "light"
          }
        }
      ]
    },
    {
      "cell_type": "markdown",
      "source": [
        "ternyata iklan baru hanya memiliki konvertion rate yang tinggi dari kelompok umur 0-30 tahun sedangakn tidak bekerja dengan baik ketika kelompok umurnya diatas 30 tahun"
      ],
      "metadata": {
        "id": "EvQjiZow7Ltl"
      }
    },
    {
      "cell_type": "markdown",
      "source": [
        "## Korelasi prefered language dan converted"
      ],
      "metadata": {
        "id": "0vn3vnVcpRrC"
      }
    },
    {
      "cell_type": "code",
      "source": [
        "df.head()"
      ],
      "metadata": {
        "colab": {
          "base_uri": "https://localhost:8080/",
          "height": 339
        },
        "id": "2Y1h4CSsoeWe",
        "outputId": "e425d6b2-7196-4621-85fa-21edae497b7b"
      },
      "execution_count": 18,
      "outputs": [
        {
          "output_type": "execute_result",
          "data": {
            "text/plain": [
              "      user_id date_served marketing_channel          variant  converted  \\\n",
              "0  a100000040  2018-01-01         House Ads  personalization       True   \n",
              "1  a100000041  2018-01-01         House Ads  personalization       True   \n",
              "2  a100000042  2018-01-01         House Ads  personalization       True   \n",
              "3  a100000043  2018-01-01         House Ads  personalization       True   \n",
              "4  a100000044  2018-01-01         House Ads  personalization       True   \n",
              "\n",
              "  language_displayed language_preferred    age_group date_subscribed  \\\n",
              "0            English            English  19-24 years      2018-01-01   \n",
              "1             Arabic             Arabic  24-30 years      2018-01-01   \n",
              "2            English            English   0-18 years      2018-01-01   \n",
              "3            English            English  19-24 years      2018-01-01   \n",
              "4             Arabic             Arabic  24-30 years      2018-01-01   \n",
              "\n",
              "  date_canceled subscribing_channel  conversion  \n",
              "0    2018-01-18           House Ads           1  \n",
              "1    2018-02-22           House Ads           1  \n",
              "2    2018-03-09           House Ads           1  \n",
              "3    2018-02-18           House Ads           1  \n",
              "4    2018-03-03           House Ads           1  "
            ],
            "text/html": [
              "\n",
              "  <div id=\"df-6b712655-d343-4822-9b03-34048d4a9a9e\">\n",
              "    <div class=\"colab-df-container\">\n",
              "      <div>\n",
              "<style scoped>\n",
              "    .dataframe tbody tr th:only-of-type {\n",
              "        vertical-align: middle;\n",
              "    }\n",
              "\n",
              "    .dataframe tbody tr th {\n",
              "        vertical-align: top;\n",
              "    }\n",
              "\n",
              "    .dataframe thead th {\n",
              "        text-align: right;\n",
              "    }\n",
              "</style>\n",
              "<table border=\"1\" class=\"dataframe\">\n",
              "  <thead>\n",
              "    <tr style=\"text-align: right;\">\n",
              "      <th></th>\n",
              "      <th>user_id</th>\n",
              "      <th>date_served</th>\n",
              "      <th>marketing_channel</th>\n",
              "      <th>variant</th>\n",
              "      <th>converted</th>\n",
              "      <th>language_displayed</th>\n",
              "      <th>language_preferred</th>\n",
              "      <th>age_group</th>\n",
              "      <th>date_subscribed</th>\n",
              "      <th>date_canceled</th>\n",
              "      <th>subscribing_channel</th>\n",
              "      <th>conversion</th>\n",
              "    </tr>\n",
              "  </thead>\n",
              "  <tbody>\n",
              "    <tr>\n",
              "      <th>0</th>\n",
              "      <td>a100000040</td>\n",
              "      <td>2018-01-01</td>\n",
              "      <td>House Ads</td>\n",
              "      <td>personalization</td>\n",
              "      <td>True</td>\n",
              "      <td>English</td>\n",
              "      <td>English</td>\n",
              "      <td>19-24 years</td>\n",
              "      <td>2018-01-01</td>\n",
              "      <td>2018-01-18</td>\n",
              "      <td>House Ads</td>\n",
              "      <td>1</td>\n",
              "    </tr>\n",
              "    <tr>\n",
              "      <th>1</th>\n",
              "      <td>a100000041</td>\n",
              "      <td>2018-01-01</td>\n",
              "      <td>House Ads</td>\n",
              "      <td>personalization</td>\n",
              "      <td>True</td>\n",
              "      <td>Arabic</td>\n",
              "      <td>Arabic</td>\n",
              "      <td>24-30 years</td>\n",
              "      <td>2018-01-01</td>\n",
              "      <td>2018-02-22</td>\n",
              "      <td>House Ads</td>\n",
              "      <td>1</td>\n",
              "    </tr>\n",
              "    <tr>\n",
              "      <th>2</th>\n",
              "      <td>a100000042</td>\n",
              "      <td>2018-01-01</td>\n",
              "      <td>House Ads</td>\n",
              "      <td>personalization</td>\n",
              "      <td>True</td>\n",
              "      <td>English</td>\n",
              "      <td>English</td>\n",
              "      <td>0-18 years</td>\n",
              "      <td>2018-01-01</td>\n",
              "      <td>2018-03-09</td>\n",
              "      <td>House Ads</td>\n",
              "      <td>1</td>\n",
              "    </tr>\n",
              "    <tr>\n",
              "      <th>3</th>\n",
              "      <td>a100000043</td>\n",
              "      <td>2018-01-01</td>\n",
              "      <td>House Ads</td>\n",
              "      <td>personalization</td>\n",
              "      <td>True</td>\n",
              "      <td>English</td>\n",
              "      <td>English</td>\n",
              "      <td>19-24 years</td>\n",
              "      <td>2018-01-01</td>\n",
              "      <td>2018-02-18</td>\n",
              "      <td>House Ads</td>\n",
              "      <td>1</td>\n",
              "    </tr>\n",
              "    <tr>\n",
              "      <th>4</th>\n",
              "      <td>a100000044</td>\n",
              "      <td>2018-01-01</td>\n",
              "      <td>House Ads</td>\n",
              "      <td>personalization</td>\n",
              "      <td>True</td>\n",
              "      <td>Arabic</td>\n",
              "      <td>Arabic</td>\n",
              "      <td>24-30 years</td>\n",
              "      <td>2018-01-01</td>\n",
              "      <td>2018-03-03</td>\n",
              "      <td>House Ads</td>\n",
              "      <td>1</td>\n",
              "    </tr>\n",
              "  </tbody>\n",
              "</table>\n",
              "</div>\n",
              "      <button class=\"colab-df-convert\" onclick=\"convertToInteractive('df-6b712655-d343-4822-9b03-34048d4a9a9e')\"\n",
              "              title=\"Convert this dataframe to an interactive table.\"\n",
              "              style=\"display:none;\">\n",
              "        \n",
              "  <svg xmlns=\"http://www.w3.org/2000/svg\" height=\"24px\"viewBox=\"0 0 24 24\"\n",
              "       width=\"24px\">\n",
              "    <path d=\"M0 0h24v24H0V0z\" fill=\"none\"/>\n",
              "    <path d=\"M18.56 5.44l.94 2.06.94-2.06 2.06-.94-2.06-.94-.94-2.06-.94 2.06-2.06.94zm-11 1L8.5 8.5l.94-2.06 2.06-.94-2.06-.94L8.5 2.5l-.94 2.06-2.06.94zm10 10l.94 2.06.94-2.06 2.06-.94-2.06-.94-.94-2.06-.94 2.06-2.06.94z\"/><path d=\"M17.41 7.96l-1.37-1.37c-.4-.4-.92-.59-1.43-.59-.52 0-1.04.2-1.43.59L10.3 9.45l-7.72 7.72c-.78.78-.78 2.05 0 2.83L4 21.41c.39.39.9.59 1.41.59.51 0 1.02-.2 1.41-.59l7.78-7.78 2.81-2.81c.8-.78.8-2.07 0-2.86zM5.41 20L4 18.59l7.72-7.72 1.47 1.35L5.41 20z\"/>\n",
              "  </svg>\n",
              "      </button>\n",
              "      \n",
              "  <style>\n",
              "    .colab-df-container {\n",
              "      display:flex;\n",
              "      flex-wrap:wrap;\n",
              "      gap: 12px;\n",
              "    }\n",
              "\n",
              "    .colab-df-convert {\n",
              "      background-color: #E8F0FE;\n",
              "      border: none;\n",
              "      border-radius: 50%;\n",
              "      cursor: pointer;\n",
              "      display: none;\n",
              "      fill: #1967D2;\n",
              "      height: 32px;\n",
              "      padding: 0 0 0 0;\n",
              "      width: 32px;\n",
              "    }\n",
              "\n",
              "    .colab-df-convert:hover {\n",
              "      background-color: #E2EBFA;\n",
              "      box-shadow: 0px 1px 2px rgba(60, 64, 67, 0.3), 0px 1px 3px 1px rgba(60, 64, 67, 0.15);\n",
              "      fill: #174EA6;\n",
              "    }\n",
              "\n",
              "    [theme=dark] .colab-df-convert {\n",
              "      background-color: #3B4455;\n",
              "      fill: #D2E3FC;\n",
              "    }\n",
              "\n",
              "    [theme=dark] .colab-df-convert:hover {\n",
              "      background-color: #434B5C;\n",
              "      box-shadow: 0px 1px 3px 1px rgba(0, 0, 0, 0.15);\n",
              "      filter: drop-shadow(0px 1px 2px rgba(0, 0, 0, 0.3));\n",
              "      fill: #FFFFFF;\n",
              "    }\n",
              "  </style>\n",
              "\n",
              "      <script>\n",
              "        const buttonEl =\n",
              "          document.querySelector('#df-6b712655-d343-4822-9b03-34048d4a9a9e button.colab-df-convert');\n",
              "        buttonEl.style.display =\n",
              "          google.colab.kernel.accessAllowed ? 'block' : 'none';\n",
              "\n",
              "        async function convertToInteractive(key) {\n",
              "          const element = document.querySelector('#df-6b712655-d343-4822-9b03-34048d4a9a9e');\n",
              "          const dataTable =\n",
              "            await google.colab.kernel.invokeFunction('convertToInteractive',\n",
              "                                                     [key], {});\n",
              "          if (!dataTable) return;\n",
              "\n",
              "          const docLinkHtml = 'Like what you see? Visit the ' +\n",
              "            '<a target=\"_blank\" href=https://colab.research.google.com/notebooks/data_table.ipynb>data table notebook</a>'\n",
              "            + ' to learn more about interactive tables.';\n",
              "          element.innerHTML = '';\n",
              "          dataTable['output_type'] = 'display_data';\n",
              "          await google.colab.output.renderOutput(dataTable, element);\n",
              "          const docLink = document.createElement('div');\n",
              "          docLink.innerHTML = docLinkHtml;\n",
              "          element.appendChild(docLink);\n",
              "        }\n",
              "      </script>\n",
              "    </div>\n",
              "  </div>\n",
              "  "
            ]
          },
          "metadata": {},
          "execution_count": 18
        }
      ]
    },
    {
      "cell_type": "code",
      "source": [
        "import scipy.stats as stats\n",
        "def cramers_v(x, y):\n",
        "    confusion_matrix = pd.crosstab(x,y)\n",
        "    chi2 = stats.chi2_contingency(confusion_matrix)[0]\n",
        "    n = confusion_matrix.sum().sum()\n",
        "    phi2 = chi2/n\n",
        "    r,k = confusion_matrix.shape\n",
        "    phi2corr = max(0, phi2-((k-1)*(r-1))/(n-1))\n",
        "    rcorr = r-((r-1)**2)/(n-1)\n",
        "    kcorr = k-((k-1)**2)/(n-1)\n",
        "    return np.sqrt(phi2corr/min((kcorr-1),(rcorr-1)))\n",
        "\n",
        "cramers = []\n",
        "for i in df.select_dtypes(exclude = 'number').columns:\n",
        "    cramers.append(cramers_v(df['conversion'], df[i]))\n",
        "res = pd.DataFrame(data = [df.select_dtypes(exclude = 'number').columns, cramers] \n",
        "             ).T \n",
        "res.columns = ['Column', 'Cramers_V']\n",
        "res.sort_values(by = 'Cramers_V', ascending = False).reset_index(drop = True)"
      ],
      "metadata": {
        "colab": {
          "base_uri": "https://localhost:8080/",
          "height": 394
        },
        "id": "TOnIXqNMpT_k",
        "outputId": "9da02222-a4e3-4988-e48b-fc0ed03204d0"
      },
      "execution_count": 19,
      "outputs": [
        {
          "output_type": "execute_result",
          "data": {
            "text/plain": [
              "                 Column Cramers_V\n",
              "0             converted  0.996368\n",
              "1           date_served  0.428197\n",
              "2               variant  0.346151\n",
              "3   subscribing_channel  0.244291\n",
              "4     marketing_channel  0.225294\n",
              "5    language_preferred  0.151012\n",
              "6             age_group  0.123154\n",
              "7    language_displayed  0.122098\n",
              "8               user_id       0.0\n",
              "9       date_subscribed       0.0\n",
              "10        date_canceled       0.0"
            ],
            "text/html": [
              "\n",
              "  <div id=\"df-f046676b-2650-4df5-a752-d3a4b1bd04b9\">\n",
              "    <div class=\"colab-df-container\">\n",
              "      <div>\n",
              "<style scoped>\n",
              "    .dataframe tbody tr th:only-of-type {\n",
              "        vertical-align: middle;\n",
              "    }\n",
              "\n",
              "    .dataframe tbody tr th {\n",
              "        vertical-align: top;\n",
              "    }\n",
              "\n",
              "    .dataframe thead th {\n",
              "        text-align: right;\n",
              "    }\n",
              "</style>\n",
              "<table border=\"1\" class=\"dataframe\">\n",
              "  <thead>\n",
              "    <tr style=\"text-align: right;\">\n",
              "      <th></th>\n",
              "      <th>Column</th>\n",
              "      <th>Cramers_V</th>\n",
              "    </tr>\n",
              "  </thead>\n",
              "  <tbody>\n",
              "    <tr>\n",
              "      <th>0</th>\n",
              "      <td>converted</td>\n",
              "      <td>0.996368</td>\n",
              "    </tr>\n",
              "    <tr>\n",
              "      <th>1</th>\n",
              "      <td>date_served</td>\n",
              "      <td>0.428197</td>\n",
              "    </tr>\n",
              "    <tr>\n",
              "      <th>2</th>\n",
              "      <td>variant</td>\n",
              "      <td>0.346151</td>\n",
              "    </tr>\n",
              "    <tr>\n",
              "      <th>3</th>\n",
              "      <td>subscribing_channel</td>\n",
              "      <td>0.244291</td>\n",
              "    </tr>\n",
              "    <tr>\n",
              "      <th>4</th>\n",
              "      <td>marketing_channel</td>\n",
              "      <td>0.225294</td>\n",
              "    </tr>\n",
              "    <tr>\n",
              "      <th>5</th>\n",
              "      <td>language_preferred</td>\n",
              "      <td>0.151012</td>\n",
              "    </tr>\n",
              "    <tr>\n",
              "      <th>6</th>\n",
              "      <td>age_group</td>\n",
              "      <td>0.123154</td>\n",
              "    </tr>\n",
              "    <tr>\n",
              "      <th>7</th>\n",
              "      <td>language_displayed</td>\n",
              "      <td>0.122098</td>\n",
              "    </tr>\n",
              "    <tr>\n",
              "      <th>8</th>\n",
              "      <td>user_id</td>\n",
              "      <td>0.0</td>\n",
              "    </tr>\n",
              "    <tr>\n",
              "      <th>9</th>\n",
              "      <td>date_subscribed</td>\n",
              "      <td>0.0</td>\n",
              "    </tr>\n",
              "    <tr>\n",
              "      <th>10</th>\n",
              "      <td>date_canceled</td>\n",
              "      <td>0.0</td>\n",
              "    </tr>\n",
              "  </tbody>\n",
              "</table>\n",
              "</div>\n",
              "      <button class=\"colab-df-convert\" onclick=\"convertToInteractive('df-f046676b-2650-4df5-a752-d3a4b1bd04b9')\"\n",
              "              title=\"Convert this dataframe to an interactive table.\"\n",
              "              style=\"display:none;\">\n",
              "        \n",
              "  <svg xmlns=\"http://www.w3.org/2000/svg\" height=\"24px\"viewBox=\"0 0 24 24\"\n",
              "       width=\"24px\">\n",
              "    <path d=\"M0 0h24v24H0V0z\" fill=\"none\"/>\n",
              "    <path d=\"M18.56 5.44l.94 2.06.94-2.06 2.06-.94-2.06-.94-.94-2.06-.94 2.06-2.06.94zm-11 1L8.5 8.5l.94-2.06 2.06-.94-2.06-.94L8.5 2.5l-.94 2.06-2.06.94zm10 10l.94 2.06.94-2.06 2.06-.94-2.06-.94-.94-2.06-.94 2.06-2.06.94z\"/><path d=\"M17.41 7.96l-1.37-1.37c-.4-.4-.92-.59-1.43-.59-.52 0-1.04.2-1.43.59L10.3 9.45l-7.72 7.72c-.78.78-.78 2.05 0 2.83L4 21.41c.39.39.9.59 1.41.59.51 0 1.02-.2 1.41-.59l7.78-7.78 2.81-2.81c.8-.78.8-2.07 0-2.86zM5.41 20L4 18.59l7.72-7.72 1.47 1.35L5.41 20z\"/>\n",
              "  </svg>\n",
              "      </button>\n",
              "      \n",
              "  <style>\n",
              "    .colab-df-container {\n",
              "      display:flex;\n",
              "      flex-wrap:wrap;\n",
              "      gap: 12px;\n",
              "    }\n",
              "\n",
              "    .colab-df-convert {\n",
              "      background-color: #E8F0FE;\n",
              "      border: none;\n",
              "      border-radius: 50%;\n",
              "      cursor: pointer;\n",
              "      display: none;\n",
              "      fill: #1967D2;\n",
              "      height: 32px;\n",
              "      padding: 0 0 0 0;\n",
              "      width: 32px;\n",
              "    }\n",
              "\n",
              "    .colab-df-convert:hover {\n",
              "      background-color: #E2EBFA;\n",
              "      box-shadow: 0px 1px 2px rgba(60, 64, 67, 0.3), 0px 1px 3px 1px rgba(60, 64, 67, 0.15);\n",
              "      fill: #174EA6;\n",
              "    }\n",
              "\n",
              "    [theme=dark] .colab-df-convert {\n",
              "      background-color: #3B4455;\n",
              "      fill: #D2E3FC;\n",
              "    }\n",
              "\n",
              "    [theme=dark] .colab-df-convert:hover {\n",
              "      background-color: #434B5C;\n",
              "      box-shadow: 0px 1px 3px 1px rgba(0, 0, 0, 0.15);\n",
              "      filter: drop-shadow(0px 1px 2px rgba(0, 0, 0, 0.3));\n",
              "      fill: #FFFFFF;\n",
              "    }\n",
              "  </style>\n",
              "\n",
              "      <script>\n",
              "        const buttonEl =\n",
              "          document.querySelector('#df-f046676b-2650-4df5-a752-d3a4b1bd04b9 button.colab-df-convert');\n",
              "        buttonEl.style.display =\n",
              "          google.colab.kernel.accessAllowed ? 'block' : 'none';\n",
              "\n",
              "        async function convertToInteractive(key) {\n",
              "          const element = document.querySelector('#df-f046676b-2650-4df5-a752-d3a4b1bd04b9');\n",
              "          const dataTable =\n",
              "            await google.colab.kernel.invokeFunction('convertToInteractive',\n",
              "                                                     [key], {});\n",
              "          if (!dataTable) return;\n",
              "\n",
              "          const docLinkHtml = 'Like what you see? Visit the ' +\n",
              "            '<a target=\"_blank\" href=https://colab.research.google.com/notebooks/data_table.ipynb>data table notebook</a>'\n",
              "            + ' to learn more about interactive tables.';\n",
              "          element.innerHTML = '';\n",
              "          dataTable['output_type'] = 'display_data';\n",
              "          await google.colab.output.renderOutput(dataTable, element);\n",
              "          const docLink = document.createElement('div');\n",
              "          docLink.innerHTML = docLinkHtml;\n",
              "          element.appendChild(docLink);\n",
              "        }\n",
              "      </script>\n",
              "    </div>\n",
              "  </div>\n",
              "  "
            ]
          },
          "metadata": {},
          "execution_count": 19
        }
      ]
    },
    {
      "cell_type": "markdown",
      "source": [
        "ternyata effect dari language preferred secara cramers'v memiliki effect sebesar 0.15"
      ],
      "metadata": {
        "id": "vtI-TQnRqjp0"
      }
    },
    {
      "cell_type": "code",
      "source": [
        "(df.groupby(\"language_preferred\")[\"conversion\"].mean()*100).plot(kind=\"bar\")"
      ],
      "metadata": {
        "colab": {
          "base_uri": "https://localhost:8080/",
          "height": 328
        },
        "id": "-c9utV1gy55F",
        "outputId": "49a4da55-4184-49cc-c2cd-31d8e14ae65f"
      },
      "execution_count": 20,
      "outputs": [
        {
          "output_type": "execute_result",
          "data": {
            "text/plain": [
              "<matplotlib.axes._subplots.AxesSubplot at 0x7f64f0810890>"
            ]
          },
          "metadata": {},
          "execution_count": 20
        },
        {
          "output_type": "display_data",
          "data": {
            "text/plain": [
              "<Figure size 432x288 with 1 Axes>"
            ],
            "image/png": "[encoded data removed]"
          },
          "metadata": {
            "needs_background": "light"
          }
        }
      ]
    },
    {
      "cell_type": "code",
      "source": [
        "pd.pivot_table(df,index='language_preferred',columns=\"language_displayed\",values=\"conversion\",aggfunc=\"mean\").fillna(0)"
      ],
      "metadata": {
        "colab": {
          "base_uri": "https://localhost:8080/",
          "height": 206
        },
        "id": "rBuAclWmyrhF",
        "outputId": "a582369e-4136-475b-a083-12d27bf5ce7e"
      },
      "execution_count": 21,
      "outputs": [
        {
          "output_type": "execute_result",
          "data": {
            "text/plain": [
              "language_displayed  Arabic   English  German  Spanish\n",
              "language_preferred                                   \n",
              "Arabic                 1.0  1.000000     0.0      0.0\n",
              "English                0.0  0.587669     0.0      0.0\n",
              "German                 0.0  1.000000     0.9      0.0\n",
              "Spanish                0.0  0.600000     0.0      0.5"
            ],
            "text/html": [
              "\n",
              "  <div id=\"df-37f56afd-c28f-4d97-b421-6e9a57aa8c91\">\n",
              "    <div class=\"colab-df-container\">\n",
              "      <div>\n",
              "<style scoped>\n",
              "    .dataframe tbody tr th:only-of-type {\n",
              "        vertical-align: middle;\n",
              "    }\n",
              "\n",
              "    .dataframe tbody tr th {\n",
              "        vertical-align: top;\n",
              "    }\n",
              "\n",
              "    .dataframe thead th {\n",
              "        text-align: right;\n",
              "    }\n",
              "</style>\n",
              "<table border=\"1\" class=\"dataframe\">\n",
              "  <thead>\n",
              "    <tr style=\"text-align: right;\">\n",
              "      <th>language_displayed</th>\n",
              "      <th>Arabic</th>\n",
              "      <th>English</th>\n",
              "      <th>German</th>\n",
              "      <th>Spanish</th>\n",
              "    </tr>\n",
              "    <tr>\n",
              "      <th>language_preferred</th>\n",
              "      <th></th>\n",
              "      <th></th>\n",
              "      <th></th>\n",
              "      <th></th>\n",
              "    </tr>\n",
              "  </thead>\n",
              "  <tbody>\n",
              "    <tr>\n",
              "      <th>Arabic</th>\n",
              "      <td>1.0</td>\n",
              "      <td>1.000000</td>\n",
              "      <td>0.0</td>\n",
              "      <td>0.0</td>\n",
              "    </tr>\n",
              "    <tr>\n",
              "      <th>English</th>\n",
              "      <td>0.0</td>\n",
              "      <td>0.587669</td>\n",
              "      <td>0.0</td>\n",
              "      <td>0.0</td>\n",
              "    </tr>\n",
              "    <tr>\n",
              "      <th>German</th>\n",
              "      <td>0.0</td>\n",
              "      <td>1.000000</td>\n",
              "      <td>0.9</td>\n",
              "      <td>0.0</td>\n",
              "    </tr>\n",
              "    <tr>\n",
              "      <th>Spanish</th>\n",
              "      <td>0.0</td>\n",
              "      <td>0.600000</td>\n",
              "      <td>0.0</td>\n",
              "      <td>0.5</td>\n",
              "    </tr>\n",
              "  </tbody>\n",
              "</table>\n",
              "</div>\n",
              "      <button class=\"colab-df-convert\" onclick=\"convertToInteractive('df-37f56afd-c28f-4d97-b421-6e9a57aa8c91')\"\n",
              "              title=\"Convert this dataframe to an interactive table.\"\n",
              "              style=\"display:none;\">\n",
              "        \n",
              "  <svg xmlns=\"http://www.w3.org/2000/svg\" height=\"24px\"viewBox=\"0 0 24 24\"\n",
              "       width=\"24px\">\n",
              "    <path d=\"M0 0h24v24H0V0z\" fill=\"none\"/>\n",
              "    <path d=\"M18.56 5.44l.94 2.06.94-2.06 2.06-.94-2.06-.94-.94-2.06-.94 2.06-2.06.94zm-11 1L8.5 8.5l.94-2.06 2.06-.94-2.06-.94L8.5 2.5l-.94 2.06-2.06.94zm10 10l.94 2.06.94-2.06 2.06-.94-2.06-.94-.94-2.06-.94 2.06-2.06.94z\"/><path d=\"M17.41 7.96l-1.37-1.37c-.4-.4-.92-.59-1.43-.59-.52 0-1.04.2-1.43.59L10.3 9.45l-7.72 7.72c-.78.78-.78 2.05 0 2.83L4 21.41c.39.39.9.59 1.41.59.51 0 1.02-.2 1.41-.59l7.78-7.78 2.81-2.81c.8-.78.8-2.07 0-2.86zM5.41 20L4 18.59l7.72-7.72 1.47 1.35L5.41 20z\"/>\n",
              "  </svg>\n",
              "      </button>\n",
              "      \n",
              "  <style>\n",
              "    .colab-df-container {\n",
              "      display:flex;\n",
              "      flex-wrap:wrap;\n",
              "      gap: 12px;\n",
              "    }\n",
              "\n",
              "    .colab-df-convert {\n",
              "      background-color: #E8F0FE;\n",
              "      border: none;\n",
              "      border-radius: 50%;\n",
              "      cursor: pointer;\n",
              "      display: none;\n",
              "      fill: #1967D2;\n",
              "      height: 32px;\n",
              "      padding: 0 0 0 0;\n",
              "      width: 32px;\n",
              "    }\n",
              "\n",
              "    .colab-df-convert:hover {\n",
              "      background-color: #E2EBFA;\n",
              "      box-shadow: 0px 1px 2px rgba(60, 64, 67, 0.3), 0px 1px 3px 1px rgba(60, 64, 67, 0.15);\n",
              "      fill: #174EA6;\n",
              "    }\n",
              "\n",
              "    [theme=dark] .colab-df-convert {\n",
              "      background-color: #3B4455;\n",
              "      fill: #D2E3FC;\n",
              "    }\n",
              "\n",
              "    [theme=dark] .colab-df-convert:hover {\n",
              "      background-color: #434B5C;\n",
              "      box-shadow: 0px 1px 3px 1px rgba(0, 0, 0, 0.15);\n",
              "      filter: drop-shadow(0px 1px 2px rgba(0, 0, 0, 0.3));\n",
              "      fill: #FFFFFF;\n",
              "    }\n",
              "  </style>\n",
              "\n",
              "      <script>\n",
              "        const buttonEl =\n",
              "          document.querySelector('#df-37f56afd-c28f-4d97-b421-6e9a57aa8c91 button.colab-df-convert');\n",
              "        buttonEl.style.display =\n",
              "          google.colab.kernel.accessAllowed ? 'block' : 'none';\n",
              "\n",
              "        async function convertToInteractive(key) {\n",
              "          const element = document.querySelector('#df-37f56afd-c28f-4d97-b421-6e9a57aa8c91');\n",
              "          const dataTable =\n",
              "            await google.colab.kernel.invokeFunction('convertToInteractive',\n",
              "                                                     [key], {});\n",
              "          if (!dataTable) return;\n",
              "\n",
              "          const docLinkHtml = 'Like what you see? Visit the ' +\n",
              "            '<a target=\"_blank\" href=https://colab.research.google.com/notebooks/data_table.ipynb>data table notebook</a>'\n",
              "            + ' to learn more about interactive tables.';\n",
              "          element.innerHTML = '';\n",
              "          dataTable['output_type'] = 'display_data';\n",
              "          await google.colab.output.renderOutput(dataTable, element);\n",
              "          const docLink = document.createElement('div');\n",
              "          docLink.innerHTML = docLinkHtml;\n",
              "          element.appendChild(docLink);\n",
              "        }\n",
              "      </script>\n",
              "    </div>\n",
              "  </div>\n",
              "  "
            ]
          },
          "metadata": {},
          "execution_count": 21
        }
      ]
    },
    {
      "cell_type": "markdown",
      "source": [
        "kita juga mengetuhui bahwa meskipun customer memiliki language preferred selain inggris, tetapi dengan menampilkan dengan bahasa inggris dalam ads conversi tetap besar, hal ini dapat dilihat dari german,spanish dan arab. Hal ini wajar karena bahasa inggris adalah bahasa international"
      ],
      "metadata": {
        "id": "td6wPKsczaZn"
      }
    },
    {
      "cell_type": "markdown",
      "source": [
        "# A/B testing\n",
        "\n",
        "H0 : Tidak terdapat perbedaan signifikant antara iklan lama dan iklan baru <br>\n",
        "H1 : Terdapat perbedaan signifikant antara iklan lama dan iklan baru"
      ],
      "metadata": {
        "id": "ZXgd_umLxPi7"
      }
    },
    {
      "cell_type": "code",
      "source": [
        "conv_calculation = df.groupby(\n",
        "    ['variant', 'conversion'], as_index = False\n",
        ").size().pivot(\n",
        "    index='variant', columns = \"conversion\", values = \"size\"\n",
        ").reset_index().assign(\n",
        "    conv_percent = lambda x: x[True] * 100 / (x[True] + x[False])\n",
        ").assign(\n",
        "    total_sample = lambda x: x[True] + x[False]\n",
        ")"
      ],
      "metadata": {
        "id": "HKA7f6NXuM8e"
      },
      "execution_count": 22,
      "outputs": []
    },
    {
      "cell_type": "code",
      "source": [
        "conv_calculation"
      ],
      "metadata": {
        "colab": {
          "base_uri": "https://localhost:8080/",
          "height": 112
        },
        "id": "dSj57Kq8vGA8",
        "outputId": "5097ecab-3354-4ef7-ebd5-4707437eda1a"
      },
      "execution_count": 23,
      "outputs": [
        {
          "output_type": "execute_result",
          "data": {
            "text/plain": [
              "conversion          variant    0    1  conv_percent  total_sample\n",
              "0                   control  155  112     41.947566           267\n",
              "1           personalization   73  237     76.451613           310"
            ],
            "text/html": [
              "\n",
              "  <div id=\"df-ed0e2651-5aaf-494b-bdc1-18621fb2bd06\">\n",
              "    <div class=\"colab-df-container\">\n",
              "      <div>\n",
              "<style scoped>\n",
              "    .dataframe tbody tr th:only-of-type {\n",
              "        vertical-align: middle;\n",
              "    }\n",
              "\n",
              "    .dataframe tbody tr th {\n",
              "        vertical-align: top;\n",
              "    }\n",
              "\n",
              "    .dataframe thead th {\n",
              "        text-align: right;\n",
              "    }\n",
              "</style>\n",
              "<table border=\"1\" class=\"dataframe\">\n",
              "  <thead>\n",
              "    <tr style=\"text-align: right;\">\n",
              "      <th>conversion</th>\n",
              "      <th>variant</th>\n",
              "      <th>0</th>\n",
              "      <th>1</th>\n",
              "      <th>conv_percent</th>\n",
              "      <th>total_sample</th>\n",
              "    </tr>\n",
              "  </thead>\n",
              "  <tbody>\n",
              "    <tr>\n",
              "      <th>0</th>\n",
              "      <td>control</td>\n",
              "      <td>155</td>\n",
              "      <td>112</td>\n",
              "      <td>41.947566</td>\n",
              "      <td>267</td>\n",
              "    </tr>\n",
              "    <tr>\n",
              "      <th>1</th>\n",
              "      <td>personalization</td>\n",
              "      <td>73</td>\n",
              "      <td>237</td>\n",
              "      <td>76.451613</td>\n",
              "      <td>310</td>\n",
              "    </tr>\n",
              "  </tbody>\n",
              "</table>\n",
              "</div>\n",
              "      <button class=\"colab-df-convert\" onclick=\"convertToInteractive('df-ed0e2651-5aaf-494b-bdc1-18621fb2bd06')\"\n",
              "              title=\"Convert this dataframe to an interactive table.\"\n",
              "              style=\"display:none;\">\n",
              "        \n",
              "  <svg xmlns=\"http://www.w3.org/2000/svg\" height=\"24px\"viewBox=\"0 0 24 24\"\n",
              "       width=\"24px\">\n",
              "    <path d=\"M0 0h24v24H0V0z\" fill=\"none\"/>\n",
              "    <path d=\"M18.56 5.44l.94 2.06.94-2.06 2.06-.94-2.06-.94-.94-2.06-.94 2.06-2.06.94zm-11 1L8.5 8.5l.94-2.06 2.06-.94-2.06-.94L8.5 2.5l-.94 2.06-2.06.94zm10 10l.94 2.06.94-2.06 2.06-.94-2.06-.94-.94-2.06-.94 2.06-2.06.94z\"/><path d=\"M17.41 7.96l-1.37-1.37c-.4-.4-.92-.59-1.43-.59-.52 0-1.04.2-1.43.59L10.3 9.45l-7.72 7.72c-.78.78-.78 2.05 0 2.83L4 21.41c.39.39.9.59 1.41.59.51 0 1.02-.2 1.41-.59l7.78-7.78 2.81-2.81c.8-.78.8-2.07 0-2.86zM5.41 20L4 18.59l7.72-7.72 1.47 1.35L5.41 20z\"/>\n",
              "  </svg>\n",
              "      </button>\n",
              "      \n",
              "  <style>\n",
              "    .colab-df-container {\n",
              "      display:flex;\n",
              "      flex-wrap:wrap;\n",
              "      gap: 12px;\n",
              "    }\n",
              "\n",
              "    .colab-df-convert {\n",
              "      background-color: #E8F0FE;\n",
              "      border: none;\n",
              "      border-radius: 50%;\n",
              "      cursor: pointer;\n",
              "      display: none;\n",
              "      fill: #1967D2;\n",
              "      height: 32px;\n",
              "      padding: 0 0 0 0;\n",
              "      width: 32px;\n",
              "    }\n",
              "\n",
              "    .colab-df-convert:hover {\n",
              "      background-color: #E2EBFA;\n",
              "      box-shadow: 0px 1px 2px rgba(60, 64, 67, 0.3), 0px 1px 3px 1px rgba(60, 64, 67, 0.15);\n",
              "      fill: #174EA6;\n",
              "    }\n",
              "\n",
              "    [theme=dark] .colab-df-convert {\n",
              "      background-color: #3B4455;\n",
              "      fill: #D2E3FC;\n",
              "    }\n",
              "\n",
              "    [theme=dark] .colab-df-convert:hover {\n",
              "      background-color: #434B5C;\n",
              "      box-shadow: 0px 1px 3px 1px rgba(0, 0, 0, 0.15);\n",
              "      filter: drop-shadow(0px 1px 2px rgba(0, 0, 0, 0.3));\n",
              "      fill: #FFFFFF;\n",
              "    }\n",
              "  </style>\n",
              "\n",
              "      <script>\n",
              "        const buttonEl =\n",
              "          document.querySelector('#df-ed0e2651-5aaf-494b-bdc1-18621fb2bd06 button.colab-df-convert');\n",
              "        buttonEl.style.display =\n",
              "          google.colab.kernel.accessAllowed ? 'block' : 'none';\n",
              "\n",
              "        async function convertToInteractive(key) {\n",
              "          const element = document.querySelector('#df-ed0e2651-5aaf-494b-bdc1-18621fb2bd06');\n",
              "          const dataTable =\n",
              "            await google.colab.kernel.invokeFunction('convertToInteractive',\n",
              "                                                     [key], {});\n",
              "          if (!dataTable) return;\n",
              "\n",
              "          const docLinkHtml = 'Like what you see? Visit the ' +\n",
              "            '<a target=\"_blank\" href=https://colab.research.google.com/notebooks/data_table.ipynb>data table notebook</a>'\n",
              "            + ' to learn more about interactive tables.';\n",
              "          element.innerHTML = '';\n",
              "          dataTable['output_type'] = 'display_data';\n",
              "          await google.colab.output.renderOutput(dataTable, element);\n",
              "          const docLink = document.createElement('div');\n",
              "          docLink.innerHTML = docLinkHtml;\n",
              "          element.appendChild(docLink);\n",
              "        }\n",
              "      </script>\n",
              "    </div>\n",
              "  </div>\n",
              "  "
            ]
          },
          "metadata": {},
          "execution_count": 23
        }
      ]
    },
    {
      "cell_type": "code",
      "source": [
        "conv_control = conv_calculation[conv_calculation['variant'] == 'control']['conv_percent'].values\n",
        "conv_personalization = conv_calculation[conv_calculation['variant'] == 'personalization']['conv_percent'].values"
      ],
      "metadata": {
        "id": "pq1Eo_MfvIeM"
      },
      "execution_count": 24,
      "outputs": []
    },
    {
      "cell_type": "code",
      "source": [
        "(conv_personalization - conv_control)*100/conv_control"
      ],
      "metadata": {
        "colab": {
          "base_uri": "https://localhost:8080/"
        },
        "id": "rl3qOVlEvSqU",
        "outputId": "e45cb169-e382-4e70-f3c8-8e1478a36702"
      },
      "execution_count": 25,
      "outputs": [
        {
          "output_type": "execute_result",
          "data": {
            "text/plain": [
              "array([82.25518433])"
            ]
          },
          "metadata": {},
          "execution_count": 25
        }
      ]
    },
    {
      "cell_type": "markdown",
      "source": [
        "ternyata ada effect peningkatan sebesar 82% dengan menggunakan iklan baru dibandingkan dengan iklan lama"
      ],
      "metadata": {
        "id": "BD2Bcqpkv2eI"
      }
    },
    {
      "cell_type": "code",
      "source": [
        "# find number of succession\n",
        "success = conv_calculation[['total_sample', True]].values[:,1]\n",
        "# find number of all observations\n",
        "obs = conv_calculation[['total_sample', True]].values[:,0]"
      ],
      "metadata": {
        "id": "lhNtlYblvY7U"
      },
      "execution_count": 26,
      "outputs": []
    },
    {
      "cell_type": "code",
      "source": [
        "result = proportions_chisquare(success, obs)"
      ],
      "metadata": {
        "id": "P-ef1mwxv95u"
      },
      "execution_count": 27,
      "outputs": []
    },
    {
      "cell_type": "code",
      "source": [
        "# Calculate chi squared result\n",
        "print('X-squared: %.3f' % result[0])\n",
        "print('p-value: %.3f' % result[1])"
      ],
      "metadata": {
        "colab": {
          "base_uri": "https://localhost:8080/"
        },
        "id": "taC6yPaGwA5o",
        "outputId": "b68991d5-3faa-48ed-f350-911e05907798"
      },
      "execution_count": 28,
      "outputs": [
        {
          "output_type": "stream",
          "name": "stdout",
          "text": [
            "X-squared: 71.454\n",
            "p-value: 0.000\n"
          ]
        }
      ]
    },
    {
      "cell_type": "markdown",
      "source": [
        "dari hasil kita mengetahui bahwa : <br>\n",
        "1.peningkatan konversi secara iklan baru sebesar 82% dengan perbandingan iklan lama hanya mengkonversi sebesar ~42% sedangkan iklan baru mengkonversi sebesar ~76%. <br>\n",
        "2.uplift 82% relative terhadap perbandingan konversi iklan baru dengan iklan lama. <br>\n",
        "3.karena p-value < 0.05 maka hyphotesis bahwa iklan baru lebih efektif dapat diterima (H1)"
      ],
      "metadata": {
        "id": "QpUyD10dwhcc"
      }
    },
    {
      "cell_type": "markdown",
      "source": [
        "# rekomendasi"
      ],
      "metadata": {
        "id": "6JtUfRHF5yID"
      }
    },
    {
      "cell_type": "markdown",
      "source": [
        "1.Iklan baru memberikan dampak terhadap konvertion rate tetapi dari analisis menunjukkan bahwa tidak semua marketing channel yang diberikan iklan baru memiliki dampak seperti marketing channel : house_ads dan email. <br>\n",
        "2.marketing channel yang dapat dioptimisasi dengan iklan baru adalah marketing channel push, instagram dan facebook. <br>\n",
        "3.tetap tampilkan iklan dalam bentuk bahasa inggris meskip bahasa preferred bukan bahasa inggris karena secara konvertion masih bagus dan dapat menghemat biaya karena tidak perlu menyewa jasa transalator. <br>\n",
        "4.karena perbedaan tidak begitu signifikant antara iklan baru dan iklan lama antara kelompok umur diatas 30 tahun, jadi kita dapat mentreat semua kelompok umur dengan iklan baru"
      ],
      "metadata": {
        "id": "47M2yMLv5zpg"
      }
    }
  ]
}