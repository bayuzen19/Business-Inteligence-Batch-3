{
 "cells": [
  {
   "cell_type": "markdown",
   "id": "6abdc353",
   "metadata": {},
   "source": [
    "# A/B Testing Marketing Promotions"
   ]
  },
  {
   "cell_type": "markdown",
   "id": "f0473c09",
   "metadata": {},
   "source": [
    "Promosi apa yang paling efekif ?"
   ]
  },
  {
   "cell_type": "markdown",
   "id": "5a65770d",
   "metadata": {},
   "source": [
    "**Scenario** :\n",
    "\n",
    "<p>Sebuah restoran masakan cepat saji merencanakan untuk menambahkan menu baru. Namun, mereka belum memutuskan antara 3 kemungkinan marketing campaign untuk promosi untuk produk baru. Dalam rangkah untuk menentukan promosi yang memiliki dampak terbesar pada penjualan, menu baru diperkenalkan pada lokasi yang berbeda dengan memilih market secara acak. Promosi yang berbeda digunakan pada setiap lokasi dan penjualan mingguan menu baru dicatat dari minggu pertama hingga minggu ke empat</p>"
   ]
  },
  {
   "cell_type": "markdown",
   "id": "6df0c0ce",
   "metadata": {},
   "source": [
    "# Import Library"
   ]
  },
  {
   "cell_type": "code",
   "execution_count": 2,
   "id": "38b4d586",
   "metadata": {},
   "outputs": [],
   "source": [
    "#=========== Pandas =============\n",
    "import pandas as pd\n",
    "pd.set_option(\"display.max_columns\",None)\n",
    "\n",
    "#===== Vector and Matrix ======\n",
    "import numpy as np\n",
    "\n",
    "#===== Stats =======\n",
    "import scipy\n",
    "from scipy.stats import shapiro\n",
    "from scipy.stats import levene\n",
    "from scipy.stats import kruskal\n",
    "from scipy.stats import mannwhitneyu\n",
    "#========= Visualisasi ==========\n",
    "import matplotlib.pyplot as plt\n",
    "import seaborn as sns\n",
    "plt.style.use(\"ggplot\")\n",
    "\n",
    "#======= Function ========\n",
    "def missing_check(df):\n",
    "    missing=df.isnull().sum()\n",
    "    per_mis = 100*(missing/len(df))\n",
    "    data_type = df.dtypes\n",
    "    number_unique = df.nunique()\n",
    "    return pd.DataFrame({\"Missing\":missing,\n",
    "                        \"Percent_Missing\":per_mis,\n",
    "                        \"Data_Types\":data_type,\n",
    "                        \"Number_of_Unique\":number_unique})\n",
    "\n",
    "\n",
    "#===== warning filters =====\n",
    "import warnings\n",
    "warnings.filterwarnings(\"ignore\")"
   ]
  },
  {
   "cell_type": "markdown",
   "id": "ab1b4e70",
   "metadata": {},
   "source": [
    "# Load Dataset"
   ]
  },
  {
   "cell_type": "code",
   "execution_count": 3,
   "id": "fecd62cf",
   "metadata": {},
   "outputs": [],
   "source": [
    "df = pd.read_csv(\"WA_Marketing-Campaign.csv\")"
   ]
  },
  {
   "cell_type": "markdown",
   "id": "9c5eb9b8",
   "metadata": {},
   "source": [
    "# Data Investigation"
   ]
  },
  {
   "cell_type": "code",
   "execution_count": 4,
   "id": "0df5b241",
   "metadata": {},
   "outputs": [
    {
     "data": {
      "text/html": [
       "<div>\n",
       "<style scoped>\n",
       "    .dataframe tbody tr th:only-of-type {\n",
       "        vertical-align: middle;\n",
       "    }\n",
       "\n",
       "    .dataframe tbody tr th {\n",
       "        vertical-align: top;\n",
       "    }\n",
       "\n",
       "    .dataframe thead th {\n",
       "        text-align: right;\n",
       "    }\n",
       "</style>\n",
       "<table border=\"1\" class=\"dataframe\">\n",
       "  <thead>\n",
       "    <tr style=\"text-align: right;\">\n",
       "      <th></th>\n",
       "      <th>MarketID</th>\n",
       "      <th>MarketSize</th>\n",
       "      <th>LocationID</th>\n",
       "      <th>AgeOfStore</th>\n",
       "      <th>Promotion</th>\n",
       "      <th>week</th>\n",
       "      <th>SalesInThousands</th>\n",
       "    </tr>\n",
       "  </thead>\n",
       "  <tbody>\n",
       "    <tr>\n",
       "      <th>0</th>\n",
       "      <td>1</td>\n",
       "      <td>Medium</td>\n",
       "      <td>1</td>\n",
       "      <td>4</td>\n",
       "      <td>3</td>\n",
       "      <td>1</td>\n",
       "      <td>33.73</td>\n",
       "    </tr>\n",
       "    <tr>\n",
       "      <th>1</th>\n",
       "      <td>1</td>\n",
       "      <td>Medium</td>\n",
       "      <td>1</td>\n",
       "      <td>4</td>\n",
       "      <td>3</td>\n",
       "      <td>2</td>\n",
       "      <td>35.67</td>\n",
       "    </tr>\n",
       "    <tr>\n",
       "      <th>2</th>\n",
       "      <td>1</td>\n",
       "      <td>Medium</td>\n",
       "      <td>1</td>\n",
       "      <td>4</td>\n",
       "      <td>3</td>\n",
       "      <td>3</td>\n",
       "      <td>29.03</td>\n",
       "    </tr>\n",
       "    <tr>\n",
       "      <th>3</th>\n",
       "      <td>1</td>\n",
       "      <td>Medium</td>\n",
       "      <td>1</td>\n",
       "      <td>4</td>\n",
       "      <td>3</td>\n",
       "      <td>4</td>\n",
       "      <td>39.25</td>\n",
       "    </tr>\n",
       "    <tr>\n",
       "      <th>4</th>\n",
       "      <td>1</td>\n",
       "      <td>Medium</td>\n",
       "      <td>2</td>\n",
       "      <td>5</td>\n",
       "      <td>2</td>\n",
       "      <td>1</td>\n",
       "      <td>27.81</td>\n",
       "    </tr>\n",
       "  </tbody>\n",
       "</table>\n",
       "</div>"
      ],
      "text/plain": [
       "   MarketID MarketSize  LocationID  AgeOfStore  Promotion  week  \\\n",
       "0         1     Medium           1           4          3     1   \n",
       "1         1     Medium           1           4          3     2   \n",
       "2         1     Medium           1           4          3     3   \n",
       "3         1     Medium           1           4          3     4   \n",
       "4         1     Medium           2           5          2     1   \n",
       "\n",
       "   SalesInThousands  \n",
       "0             33.73  \n",
       "1             35.67  \n",
       "2             29.03  \n",
       "3             39.25  \n",
       "4             27.81  "
      ]
     },
     "execution_count": 4,
     "metadata": {},
     "output_type": "execute_result"
    }
   ],
   "source": [
    "df.head()"
   ]
  },
  {
   "cell_type": "code",
   "execution_count": 5,
   "id": "71c7c35f",
   "metadata": {},
   "outputs": [
    {
     "data": {
      "text/html": [
       "<div>\n",
       "<style scoped>\n",
       "    .dataframe tbody tr th:only-of-type {\n",
       "        vertical-align: middle;\n",
       "    }\n",
       "\n",
       "    .dataframe tbody tr th {\n",
       "        vertical-align: top;\n",
       "    }\n",
       "\n",
       "    .dataframe thead th {\n",
       "        text-align: right;\n",
       "    }\n",
       "</style>\n",
       "<table border=\"1\" class=\"dataframe\">\n",
       "  <thead>\n",
       "    <tr style=\"text-align: right;\">\n",
       "      <th></th>\n",
       "      <th>Missing</th>\n",
       "      <th>Percent_Missing</th>\n",
       "      <th>Data_Types</th>\n",
       "      <th>Number_of_Unique</th>\n",
       "    </tr>\n",
       "  </thead>\n",
       "  <tbody>\n",
       "    <tr>\n",
       "      <th>MarketID</th>\n",
       "      <td>0</td>\n",
       "      <td>0.0</td>\n",
       "      <td>int64</td>\n",
       "      <td>10</td>\n",
       "    </tr>\n",
       "    <tr>\n",
       "      <th>MarketSize</th>\n",
       "      <td>0</td>\n",
       "      <td>0.0</td>\n",
       "      <td>object</td>\n",
       "      <td>3</td>\n",
       "    </tr>\n",
       "    <tr>\n",
       "      <th>LocationID</th>\n",
       "      <td>0</td>\n",
       "      <td>0.0</td>\n",
       "      <td>int64</td>\n",
       "      <td>137</td>\n",
       "    </tr>\n",
       "    <tr>\n",
       "      <th>AgeOfStore</th>\n",
       "      <td>0</td>\n",
       "      <td>0.0</td>\n",
       "      <td>int64</td>\n",
       "      <td>25</td>\n",
       "    </tr>\n",
       "    <tr>\n",
       "      <th>Promotion</th>\n",
       "      <td>0</td>\n",
       "      <td>0.0</td>\n",
       "      <td>int64</td>\n",
       "      <td>3</td>\n",
       "    </tr>\n",
       "    <tr>\n",
       "      <th>week</th>\n",
       "      <td>0</td>\n",
       "      <td>0.0</td>\n",
       "      <td>int64</td>\n",
       "      <td>4</td>\n",
       "    </tr>\n",
       "    <tr>\n",
       "      <th>SalesInThousands</th>\n",
       "      <td>0</td>\n",
       "      <td>0.0</td>\n",
       "      <td>float64</td>\n",
       "      <td>517</td>\n",
       "    </tr>\n",
       "  </tbody>\n",
       "</table>\n",
       "</div>"
      ],
      "text/plain": [
       "                  Missing  Percent_Missing Data_Types  Number_of_Unique\n",
       "MarketID                0              0.0      int64                10\n",
       "MarketSize              0              0.0     object                 3\n",
       "LocationID              0              0.0      int64               137\n",
       "AgeOfStore              0              0.0      int64                25\n",
       "Promotion               0              0.0      int64                 3\n",
       "week                    0              0.0      int64                 4\n",
       "SalesInThousands        0              0.0    float64               517"
      ]
     },
     "execution_count": 5,
     "metadata": {},
     "output_type": "execute_result"
    }
   ],
   "source": [
    "missing_check(df)"
   ]
  },
  {
   "cell_type": "markdown",
   "id": "f752b598",
   "metadata": {},
   "source": [
    "# Eksplonatory Data Analysis"
   ]
  },
  {
   "cell_type": "markdown",
   "id": "7071fc9c",
   "metadata": {},
   "source": [
    "## Check Sample Size for Each Promotion"
   ]
  },
  {
   "cell_type": "code",
   "execution_count": 6,
   "id": "69a5f378",
   "metadata": {},
   "outputs": [
    {
     "data": {
      "image/png": "[encoded data removed]",
      "text/plain": [
       "<Figure size 576x432 with 1 Axes>"
      ]
     },
     "metadata": {},
     "output_type": "display_data"
    }
   ],
   "source": [
    "plt.figure(figsize=(8,6))\n",
    "plt.pie(df[\"Promotion\"].value_counts(),\n",
    "       autopct=\"%1.1f%%\",\n",
    "       labels=df[\"Promotion\"].value_counts().index)\n",
    "plt.title(\"Sample for Each Promotion\")\n",
    "plt.show()"
   ]
  },
  {
   "cell_type": "code",
   "execution_count": 7,
   "id": "82382ae7",
   "metadata": {},
   "outputs": [
    {
     "name": "stdout",
     "output_type": "stream",
     "text": [
      "Rata-Rata Sales 53.46620437956198\n",
      "Standard Deviasi sales 16.755215821664237\n"
     ]
    }
   ],
   "source": [
    "#calculate mean,standard deviation from SalesInThousands\n",
    "mean_ = df[\"SalesInThousands\"].mean()\n",
    "std_ = df[\"SalesInThousands\"].std()\n",
    "\n",
    "print(f\"Rata-Rata Sales {mean_}\")\n",
    "print(f\"Standard Deviasi sales {std_}\")"
   ]
  },
  {
   "cell_type": "markdown",
   "id": "8370371f",
   "metadata": {},
   "source": [
    "## Sales for Each Promotion and Market Size"
   ]
  },
  {
   "cell_type": "code",
   "execution_count": 8,
   "id": "c2ca7a9f",
   "metadata": {},
   "outputs": [
    {
     "data": {
      "image/png": "[encoded data removed]",
      "text/plain": [
       "<Figure size 432x288 with 1 Axes>"
      ]
     },
     "metadata": {},
     "output_type": "display_data"
    },
    {
     "data": {
      "image/png": "[encoded data removed]",
      "text/plain": [
       "<Figure size 432x288 with 1 Axes>"
      ]
     },
     "metadata": {},
     "output_type": "display_data"
    },
    {
     "data": {
      "image/png": "[encoded data removed]",
      "text/plain": [
       "<Figure size 432x288 with 1 Axes>"
      ]
     },
     "metadata": {},
     "output_type": "display_data"
    }
   ],
   "source": [
    "for x in ['Small', 'Medium','Large']:\n",
    "    plt.figure()\n",
    "    ax = df[df[\"MarketSize\"]==x].groupby(\"Promotion\")[\"SalesInThousands\"].sum().plot.pie(\n",
    "             autopct=\"%1.1f%%\",\n",
    "             shadow=True)\n",
    "\n",
    "    ax.set_title(f\"Percentage of sales on each Promotions in Market Size {x}\")\n",
    "    ax.set_ylabel(\"\")\n",
    "\n",
    "    plt.show()"
   ]
  },
  {
   "cell_type": "code",
   "execution_count": 9,
   "id": "28a6f2ca",
   "metadata": {},
   "outputs": [
    {
     "data": {
      "image/png": "[encoded data removed]",
      "text/plain": [
       "<Figure size 576x432 with 1 Axes>"
      ]
     },
     "metadata": {},
     "output_type": "display_data"
    }
   ],
   "source": [
    "#create pie chart to see percentage sales by promotion\n",
    "plt.figure(figsize=(8,6))\n",
    "ax = df.groupby(\"Promotion\")[\"SalesInThousands\"].sum().plot.pie(\n",
    "             autopct=\"%1.1f%%\",\n",
    "             shadow=True)\n",
    "\n",
    "ax.set_title(\"Percentage of sales on each Promotions in Overall Market Size\")\n",
    "ax.set_ylabel(\"\")\n",
    "\n",
    "plt.show()"
   ]
  },
  {
   "cell_type": "markdown",
   "id": "0390f2ef",
   "metadata": {},
   "source": [
    "Promotion 1 has a good sales contribution in the large market segment, while promotion 3 has a good sales contribution in the small and medium market segment. <br> \n",
    "\n",
    "In aggregate, Promotion 3 contributed 35.5% to sales and was the highest compared to promotions 1 and 2, but if we look at the difference in sales for each promotion, it is not much different, it is necessary to test to find out the difference. in sales is very significant."
   ]
  },
  {
   "cell_type": "markdown",
   "id": "706c3c05",
   "metadata": {},
   "source": [
    "## Promotion for each market size"
   ]
  },
  {
   "cell_type": "code",
   "execution_count": 10,
   "id": "be9dece6",
   "metadata": {},
   "outputs": [
    {
     "data": {
      "image/png": "[encoded data removed]",
      "text/plain": [
       "<Figure size 864x576 with 1 Axes>"
      ]
     },
     "metadata": {},
     "output_type": "display_data"
    }
   ],
   "source": [
    "ax = df.groupby([\"Promotion\",\"MarketSize\"])['MarketID'].count().unstack(level=1)\\\n",
    "                                                          .plot(kind=\"bar\",\n",
    "                                                                stacked=True,\n",
    "                                                               figsize=(12,8))\n",
    "\n",
    "cols = df.groupby([\"Promotion\",\"MarketSize\"])['MarketID'].count().unstack(level=1).columns\n",
    "# iterate through each container and add custom annotations\n",
    "for i, c in enumerate(ax.containers):\n",
    "    \n",
    "    # customize the label to account for cases when there might not be a bar section - with assignment expression (h := ...)\n",
    "    labels = [f'{cols[i]}: {h:0.0f}' if (h := v.get_height()) > 0 else '' for v in c ]\n",
    "    # without assignment expression v.get_height() must be called twice\n",
    "    # labels = [f'{cols[i]}: {v.get_height():0.0f}' if v.get_height() > 0 else '' for v in c ]\n",
    "    \n",
    "    # set the bar label\n",
    "    ax.bar_label(c, label_type='center', fontsize=12)\n",
    "\n",
    "ax.set_title(\"Promotion for Each Market Size\")\n",
    "ax.set_ylabel(\"count\",fontsize=12)\n",
    "ax.legend(loc='center left', bbox_to_anchor=(1, 0.92),fontsize=12)\n",
    "plt.show()"
   ]
  },
  {
   "cell_type": "markdown",
   "id": "e3f64a54",
   "metadata": {},
   "source": [
    "market size menengah memiliki jumlah yang lebih banyak disemua kategori promosi, sedangkan market size small memiliki jumlah terkecil diantara semua kategori promosi. Berdasarkan plot dan data, market size yang berbeda memiliki kecendrungan yang sama pada tiap promosi."
   ]
  },
  {
   "cell_type": "markdown",
   "id": "3815a3f9",
   "metadata": {},
   "source": [
    "## Age Store Distribution"
   ]
  },
  {
   "cell_type": "code",
   "execution_count": 11,
   "id": "88cd7abc",
   "metadata": {},
   "outputs": [
    {
     "data": {
      "text/plain": [
       "Text(0, 0.5, 'Count')"
      ]
     },
     "execution_count": 11,
     "metadata": {},
     "output_type": "execute_result"
    },
    {
     "data": {
      "image/png": "[encoded data removed]",
      "text/plain": [
       "<Figure size 576x432 with 1 Axes>"
      ]
     },
     "metadata": {},
     "output_type": "display_data"
    }
   ],
   "source": [
    "ax = df.groupby(\"AgeOfStore\")[\"MarketID\"].count().plot(kind='bar',\n",
    "                                                      figsize=(8,6))\n",
    "ax.set_title(\"Age of Store Distribution\")\n",
    "ax.set_xlabel(\"Age of Store\")\n",
    "plt.ylabel(\"Count\")"
   ]
  },
  {
   "cell_type": "markdown",
   "id": "655c818c",
   "metadata": {},
   "source": [
    "Most of stores have 1 year old"
   ]
  },
  {
   "cell_type": "markdown",
   "id": "1a7a0249",
   "metadata": {},
   "source": [
    "## Distribution Age every Promotion"
   ]
  },
  {
   "cell_type": "code",
   "execution_count": 12,
   "id": "c8b9c7cb",
   "metadata": {},
   "outputs": [
    {
     "data": {
      "text/html": [
       "<div>\n",
       "<style scoped>\n",
       "    .dataframe tbody tr th:only-of-type {\n",
       "        vertical-align: middle;\n",
       "    }\n",
       "\n",
       "    .dataframe tbody tr th {\n",
       "        vertical-align: top;\n",
       "    }\n",
       "\n",
       "    .dataframe thead th {\n",
       "        text-align: right;\n",
       "    }\n",
       "</style>\n",
       "<table border=\"1\" class=\"dataframe\">\n",
       "  <thead>\n",
       "    <tr style=\"text-align: right;\">\n",
       "      <th></th>\n",
       "      <th>count</th>\n",
       "      <th>mean</th>\n",
       "      <th>std</th>\n",
       "      <th>min</th>\n",
       "      <th>25%</th>\n",
       "      <th>50%</th>\n",
       "      <th>75%</th>\n",
       "      <th>max</th>\n",
       "    </tr>\n",
       "    <tr>\n",
       "      <th>Promotion</th>\n",
       "      <th></th>\n",
       "      <th></th>\n",
       "      <th></th>\n",
       "      <th></th>\n",
       "      <th></th>\n",
       "      <th></th>\n",
       "      <th></th>\n",
       "      <th></th>\n",
       "    </tr>\n",
       "  </thead>\n",
       "  <tbody>\n",
       "    <tr>\n",
       "      <th>1</th>\n",
       "      <td>172.0</td>\n",
       "      <td>8.279070</td>\n",
       "      <td>6.636160</td>\n",
       "      <td>1.0</td>\n",
       "      <td>3.0</td>\n",
       "      <td>6.0</td>\n",
       "      <td>12.0</td>\n",
       "      <td>27.0</td>\n",
       "    </tr>\n",
       "    <tr>\n",
       "      <th>2</th>\n",
       "      <td>188.0</td>\n",
       "      <td>7.978723</td>\n",
       "      <td>6.597648</td>\n",
       "      <td>1.0</td>\n",
       "      <td>3.0</td>\n",
       "      <td>7.0</td>\n",
       "      <td>10.0</td>\n",
       "      <td>28.0</td>\n",
       "    </tr>\n",
       "    <tr>\n",
       "      <th>3</th>\n",
       "      <td>188.0</td>\n",
       "      <td>9.234043</td>\n",
       "      <td>6.651646</td>\n",
       "      <td>1.0</td>\n",
       "      <td>5.0</td>\n",
       "      <td>8.0</td>\n",
       "      <td>12.0</td>\n",
       "      <td>24.0</td>\n",
       "    </tr>\n",
       "  </tbody>\n",
       "</table>\n",
       "</div>"
      ],
      "text/plain": [
       "           count      mean       std  min  25%  50%   75%   max\n",
       "Promotion                                                      \n",
       "1          172.0  8.279070  6.636160  1.0  3.0  6.0  12.0  27.0\n",
       "2          188.0  7.978723  6.597648  1.0  3.0  7.0  10.0  28.0\n",
       "3          188.0  9.234043  6.651646  1.0  5.0  8.0  12.0  24.0"
      ]
     },
     "execution_count": 12,
     "metadata": {},
     "output_type": "execute_result"
    }
   ],
   "source": [
    "df.groupby(\"Promotion\")[\"AgeOfStore\"].describe()"
   ]
  },
  {
   "cell_type": "markdown",
   "id": "223d089b",
   "metadata": {},
   "source": [
    "The average age of the store from 3 different promotions is in the range of 8-9 years and most of the age of the store is 10-12 years (quantile 3)"
   ]
  },
  {
   "cell_type": "markdown",
   "id": "a86d9cfb",
   "metadata": {},
   "source": [
    "## Normality Test\n",
    "\n",
    "Hypothesis : <br>\n",
    "H0 = Normal Distribution <br>\n",
    "H1 = Not Normal Distribution"
   ]
  },
  {
   "cell_type": "code",
   "execution_count": 13,
   "id": "7630606e",
   "metadata": {},
   "outputs": [
    {
     "name": "stdout",
     "output_type": "stream",
     "text": [
      "---Promotion 1 Normality Test---\n",
      " P-value is 1.9773297665892642e-08\n",
      "---Promotion 2 Normality Test---\n",
      " P-value is 5.456262108793908e-09\n",
      "---Promotion 3 Normality Test---\n",
      " P-value is 1.499518376135711e-08\n"
     ]
    }
   ],
   "source": [
    "#Sales in promotion 1\n",
    "promotion_1 = df[df[\"Promotion\"]==1][\"SalesInThousands\"]\n",
    "promotion_2 = df[df[\"Promotion\"]==2][\"SalesInThousands\"]\n",
    "promotion_3 = df[df[\"Promotion\"]==3][\"SalesInThousands\"]\n",
    "\n",
    "# Promotion 1 test \n",
    "t1,p1=shapiro(promotion_1)\n",
    "print(\"---Promotion 1 Normality Test---\")\n",
    "print(f\" P-value is {p1}\")\n",
    "\n",
    "# Promotion 2 test \n",
    "t2,p2=shapiro(promotion_2)\n",
    "print(\"---Promotion 2 Normality Test---\")\n",
    "print(f\" P-value is {p2}\")\n",
    "\n",
    "# Promotion 3 test \n",
    "t3,p3=shapiro(promotion_3)\n",
    "print(\"---Promotion 3 Normality Test---\")\n",
    "print(f\" P-value is {p3}\")"
   ]
  },
  {
   "cell_type": "markdown",
   "id": "4ded313f",
   "metadata": {},
   "source": [
    "Based shapiro test we can see that sales for every promotions have p-value **close to 0** so this is indicate sales not normal distribution, so for statistical test we use is non-parametric test"
   ]
  },
  {
   "cell_type": "markdown",
   "id": "7bba2ae6",
   "metadata": {},
   "source": [
    "## Variance Equal Check"
   ]
  },
  {
   "cell_type": "markdown",
   "id": "f7c1863d",
   "metadata": {},
   "source": [
    "Because our sales data is not normal distribution, we can use statistical test levene to see if our variance is equal or not. <br>\n",
    "\n",
    "Levene Hypothesis <br>\n",
    "Ho = there is not different <br>\n",
    "H1 = at least 1 population not have equal variance"
   ]
  },
  {
   "cell_type": "code",
   "execution_count": 14,
   "id": "62f16c79",
   "metadata": {},
   "outputs": [
    {
     "name": "stdout",
     "output_type": "stream",
     "text": [
      "Fail to reject Null Hypothesis\n"
     ]
    }
   ],
   "source": [
    "stat, p = levene(promotion_1, promotion_2, promotion_3)\n",
    "\n",
    "if p<0.05:\n",
    "    print(\"Reject Null Hypothesis\")\n",
    "else:\n",
    "    print(\"Fail to reject Null Hypothesis\")"
   ]
  },
  {
   "cell_type": "markdown",
   "id": "aa7c00d3",
   "metadata": {},
   "source": [
    "based on levene test, we know that every varince is equal"
   ]
  },
  {
   "cell_type": "code",
   "execution_count": 15,
   "id": "1686dd77",
   "metadata": {},
   "outputs": [
    {
     "name": "stdout",
     "output_type": "stream",
     "text": [
      "Variance sales for promotion 1 is 16.553781697578724\n",
      "Variance sales for promotion 2 is 15.108954782812802\n",
      "Variance sales for promotion 3 is 16.766230774027896\n"
     ]
    }
   ],
   "source": [
    "print(f\"Variance sales for promotion 1 is {promotion_1.std()}\")\n",
    "print(f\"Variance sales for promotion 2 is {promotion_2.std()}\")\n",
    "print(f\"Variance sales for promotion 3 is {promotion_3.std()}\")"
   ]
  },
  {
   "cell_type": "markdown",
   "id": "16fb0e54",
   "metadata": {},
   "source": [
    "if we see the variance sales for every promotion, we can see that the variance for every promotion is not equal"
   ]
  },
  {
   "cell_type": "markdown",
   "id": "32416fc1",
   "metadata": {},
   "source": [
    "# A/B Test : Kruskal Test Non Parametric and Post-Hoc Mannwhitneyu"
   ]
  },
  {
   "cell_type": "code",
   "execution_count": 16,
   "id": "6d95abfa",
   "metadata": {},
   "outputs": [
    {
     "data": {
      "text/html": [
       "<div>\n",
       "<style scoped>\n",
       "    .dataframe tbody tr th:only-of-type {\n",
       "        vertical-align: middle;\n",
       "    }\n",
       "\n",
       "    .dataframe tbody tr th {\n",
       "        vertical-align: top;\n",
       "    }\n",
       "\n",
       "    .dataframe thead th {\n",
       "        text-align: right;\n",
       "    }\n",
       "</style>\n",
       "<table border=\"1\" class=\"dataframe\">\n",
       "  <thead>\n",
       "    <tr style=\"text-align: right;\">\n",
       "      <th></th>\n",
       "      <th>count</th>\n",
       "      <th>mean</th>\n",
       "      <th>std</th>\n",
       "      <th>min</th>\n",
       "      <th>25%</th>\n",
       "      <th>50%</th>\n",
       "      <th>75%</th>\n",
       "      <th>max</th>\n",
       "    </tr>\n",
       "    <tr>\n",
       "      <th>Promotion</th>\n",
       "      <th></th>\n",
       "      <th></th>\n",
       "      <th></th>\n",
       "      <th></th>\n",
       "      <th></th>\n",
       "      <th></th>\n",
       "      <th></th>\n",
       "      <th></th>\n",
       "    </tr>\n",
       "  </thead>\n",
       "  <tbody>\n",
       "    <tr>\n",
       "      <th>1</th>\n",
       "      <td>172.0</td>\n",
       "      <td>58.099012</td>\n",
       "      <td>16.553782</td>\n",
       "      <td>30.81</td>\n",
       "      <td>46.3525</td>\n",
       "      <td>55.385</td>\n",
       "      <td>63.6175</td>\n",
       "      <td>99.65</td>\n",
       "    </tr>\n",
       "    <tr>\n",
       "      <th>2</th>\n",
       "      <td>188.0</td>\n",
       "      <td>47.329415</td>\n",
       "      <td>15.108955</td>\n",
       "      <td>17.34</td>\n",
       "      <td>38.1700</td>\n",
       "      <td>45.385</td>\n",
       "      <td>51.7450</td>\n",
       "      <td>88.64</td>\n",
       "    </tr>\n",
       "    <tr>\n",
       "      <th>3</th>\n",
       "      <td>188.0</td>\n",
       "      <td>55.364468</td>\n",
       "      <td>16.766231</td>\n",
       "      <td>22.18</td>\n",
       "      <td>44.1975</td>\n",
       "      <td>51.165</td>\n",
       "      <td>61.7325</td>\n",
       "      <td>96.48</td>\n",
       "    </tr>\n",
       "  </tbody>\n",
       "</table>\n",
       "</div>"
      ],
      "text/plain": [
       "           count       mean        std    min      25%     50%      75%    max\n",
       "Promotion                                                                     \n",
       "1          172.0  58.099012  16.553782  30.81  46.3525  55.385  63.6175  99.65\n",
       "2          188.0  47.329415  15.108955  17.34  38.1700  45.385  51.7450  88.64\n",
       "3          188.0  55.364468  16.766231  22.18  44.1975  51.165  61.7325  96.48"
      ]
     },
     "execution_count": 16,
     "metadata": {},
     "output_type": "execute_result"
    }
   ],
   "source": [
    "df.groupby(\"Promotion\")[\"SalesInThousands\"].describe()"
   ]
  },
  {
   "cell_type": "markdown",
   "id": "db73b284",
   "metadata": {},
   "source": [
    "Berdasarkan dari permasalahan utama business yaitu menentukan strategi yang paling efisien dan berhasil, sehingga untuk mengetahui strategy yang efisien dan berhasil kita perlu melakukan pengujian A/B untuk mengetahui strategy paling efisien secara signifikan."
   ]
  },
  {
   "cell_type": "markdown",
   "id": "8b1cdb2e",
   "metadata": {},
   "source": [
    "## Kruskal Test\n",
    "\n",
    "Hypothesis Kruskal Test : <br>\n",
    "Ho =  the population median sales of all promotion are equal <br>\n",
    "H1 =  at least one of the population median sales of all promotion are not equal"
   ]
  },
  {
   "cell_type": "code",
   "execution_count": 17,
   "id": "542e54cd",
   "metadata": {},
   "outputs": [
    {
     "name": "stdout",
     "output_type": "stream",
     "text": [
      "Reject Null Hypothesis\n"
     ]
    }
   ],
   "source": [
    "stast_kruskal,p_value = kruskal(promotion_1,promotion_2,promotion_3)\n",
    "\n",
    "if p_value <0.05:\n",
    "    print(\"Reject Null Hypothesis\")\n",
    "else:\n",
    "    print(\"Fail to reject Null Hypothesis\")"
   ]
  },
  {
   "cell_type": "markdown",
   "id": "35029bfd",
   "metadata": {},
   "source": [
    "based on kruskal test we can confidence that the median sales for every promotion is significant difference"
   ]
  },
  {
   "cell_type": "markdown",
   "id": "9b191857",
   "metadata": {},
   "source": [
    "## Post-Hoc Test : Mannwhitneyu"
   ]
  },
  {
   "cell_type": "markdown",
   "id": "3debb433",
   "metadata": {},
   "source": [
    "based on our EDA, we can see that the sample promotion is not equal so we can use mannwhitneyu for post-hoc test"
   ]
  },
  {
   "cell_type": "code",
   "execution_count": 18,
   "id": "30684c06",
   "metadata": {},
   "outputs": [
    {
     "data": {
      "text/html": [
       "<div>\n",
       "<style scoped>\n",
       "    .dataframe tbody tr th:only-of-type {\n",
       "        vertical-align: middle;\n",
       "    }\n",
       "\n",
       "    .dataframe tbody tr th {\n",
       "        vertical-align: top;\n",
       "    }\n",
       "\n",
       "    .dataframe thead th {\n",
       "        text-align: right;\n",
       "    }\n",
       "</style>\n",
       "<table border=\"1\" class=\"dataframe\">\n",
       "  <thead>\n",
       "    <tr style=\"text-align: right;\">\n",
       "      <th></th>\n",
       "      <th>stat</th>\n",
       "      <th>p-value</th>\n",
       "    </tr>\n",
       "  </thead>\n",
       "  <tbody>\n",
       "    <tr>\n",
       "      <th>0</th>\n",
       "      <td>9378.5</td>\n",
       "      <td>5.845935e-12</td>\n",
       "    </tr>\n",
       "    <tr>\n",
       "      <th>0</th>\n",
       "      <td>14089.0</td>\n",
       "      <td>3.508410e-02</td>\n",
       "    </tr>\n",
       "    <tr>\n",
       "      <th>0</th>\n",
       "      <td>23251.0</td>\n",
       "      <td>1.197008e-07</td>\n",
       "    </tr>\n",
       "  </tbody>\n",
       "</table>\n",
       "</div>"
      ],
      "text/plain": [
       "      stat       p-value\n",
       "0   9378.5  5.845935e-12\n",
       "0  14089.0  3.508410e-02\n",
       "0  23251.0  1.197008e-07"
      ]
     },
     "execution_count": 18,
     "metadata": {},
     "output_type": "execute_result"
    }
   ],
   "source": [
    "post_hoc = pd.DataFrame()\n",
    "\n",
    "#promotion test significant\n",
    "\n",
    "promo = [(1,2),(1,3),(2,3)]\n",
    "\n",
    "for n,p in promo:\n",
    "      post_hoc = post_hoc.append(pd.DataFrame([list(mannwhitneyu(x = df[df['Promotion']==p]['SalesInThousands'],y = df[df['Promotion']==n]['SalesInThousands']))],\n",
    "                     columns = ['stat','p-value']))\n",
    "      \n",
    "post_hoc\n"
   ]
  },
  {
   "cell_type": "markdown",
   "id": "3d75dffe",
   "metadata": {},
   "source": [
    "# Conclusion"
   ]
  },
  {
   "cell_type": "markdown",
   "id": "e75108fb",
   "metadata": {},
   "source": [
    "based on kruskal test we can confindence that median sales for every promotion is statistical siginificance and the post hoc test we can see the p-value for every test promotion close to 0, so we can confirm that sales in every promotion is significant difference, and based on our data the average sales for promotion 1 is higher, so the promotion 1 is effective"
   ]
  }
 ],
 "metadata": {
  "kernelspec": {
   "display_name": "Python 3 (ipykernel)",
   "language": "python",
   "name": "python3"
  },
  "language_info": {
   "codemirror_mode": {
    "name": "ipython",
    "version": 3
   },
   "file_extension": ".py",
   "mimetype": "text/x-python",
   "name": "python",
   "nbconvert_exporter": "python",
   "pygments_lexer": "ipython3",
   "version": "3.9.12"
  }
 },
 "nbformat": 4,
 "nbformat_minor": 5
}
